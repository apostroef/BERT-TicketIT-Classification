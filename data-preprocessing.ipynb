{
 "cells": [
  {
   "cell_type": "code",
   "execution_count": 39,
   "id": "b645b2d6",
   "metadata": {},
   "outputs": [],
   "source": [
    "from Library import *"
   ]
  },
  {
   "cell_type": "markdown",
   "id": "c795e4e1",
   "metadata": {},
   "source": [
    "# **Preprocessing**\n",
    "\n",
    "<li>Stop Words Removal</li>\n",
    "<li>Case Folding</li>\n"
   ]
  },
  {
   "cell_type": "markdown",
   "id": "66812266",
   "metadata": {},
   "source": [
    "### **Case Folding**\n"
   ]
  },
  {
   "cell_type": "code",
   "execution_count": 40,
   "id": "a78e359e",
   "metadata": {},
   "outputs": [
    {
     "data": {
      "text/html": [
       "<div>\n",
       "<style scoped>\n",
       "    .dataframe tbody tr th:only-of-type {\n",
       "        vertical-align: middle;\n",
       "    }\n",
       "\n",
       "    .dataframe tbody tr th {\n",
       "        vertical-align: top;\n",
       "    }\n",
       "\n",
       "    .dataframe thead th {\n",
       "        text-align: right;\n",
       "    }\n",
       "</style>\n",
       "<table border=\"1\" class=\"dataframe\">\n",
       "  <thead>\n",
       "    <tr style=\"text-align: right;\">\n",
       "      <th></th>\n",
       "      <th>subject</th>\n",
       "      <th>body</th>\n",
       "      <th>answer</th>\n",
       "      <th>type</th>\n",
       "      <th>queue</th>\n",
       "      <th>priority</th>\n",
       "      <th>language</th>\n",
       "      <th>tag_1</th>\n",
       "      <th>tag_2</th>\n",
       "      <th>tag_3</th>\n",
       "      <th>tag_4</th>\n",
       "      <th>tag_5</th>\n",
       "      <th>tag_6</th>\n",
       "      <th>tag_7</th>\n",
       "      <th>tag_8</th>\n",
       "      <th>translated_body</th>\n",
       "      <th>cleaned_text</th>\n",
       "    </tr>\n",
       "  </thead>\n",
       "  <tbody>\n",
       "    <tr>\n",
       "      <th>0</th>\n",
       "      <td>Unvorhergesehener Absturz der Datenanalyse-Pla...</td>\n",
       "      <td>Die Datenanalyse-Plattform brach unerwartet ab...</td>\n",
       "      <td>Ich werde Ihnen bei der Lösung des Problems he...</td>\n",
       "      <td>Incident</td>\n",
       "      <td>General Inquiry</td>\n",
       "      <td>low</td>\n",
       "      <td>de</td>\n",
       "      <td>Crash</td>\n",
       "      <td>Technical</td>\n",
       "      <td>Bug</td>\n",
       "      <td>Hardware</td>\n",
       "      <td>Resolution</td>\n",
       "      <td>Outage</td>\n",
       "      <td>Documentation</td>\n",
       "      <td>NaN</td>\n",
       "      <td>The data analysis platform unexpectedly broke ...</td>\n",
       "      <td>data analysis platform unexpectedly broke memo...</td>\n",
       "    </tr>\n",
       "    <tr>\n",
       "      <th>1</th>\n",
       "      <td>Customer Support Inquiry</td>\n",
       "      <td>Seeking information on digital strategies that...</td>\n",
       "      <td>We offer a variety of digital strategies and s...</td>\n",
       "      <td>Request</td>\n",
       "      <td>Customer Service</td>\n",
       "      <td>medium</td>\n",
       "      <td>en</td>\n",
       "      <td>Feedback</td>\n",
       "      <td>Sales</td>\n",
       "      <td>IT</td>\n",
       "      <td>Tech Support</td>\n",
       "      <td>NaN</td>\n",
       "      <td>NaN</td>\n",
       "      <td>NaN</td>\n",
       "      <td>NaN</td>\n",
       "      <td>Seeking information on digital strategies that...</td>\n",
       "      <td>seeking information digital strategies aid bra...</td>\n",
       "    </tr>\n",
       "    <tr>\n",
       "      <th>2</th>\n",
       "      <td>Data Analytics for Investment</td>\n",
       "      <td>I am contacting you to request information on ...</td>\n",
       "      <td>I am here to assist you with data analytics to...</td>\n",
       "      <td>Request</td>\n",
       "      <td>Customer Service</td>\n",
       "      <td>medium</td>\n",
       "      <td>en</td>\n",
       "      <td>Technical</td>\n",
       "      <td>Product</td>\n",
       "      <td>Guidance</td>\n",
       "      <td>Documentation</td>\n",
       "      <td>Performance</td>\n",
       "      <td>Feature</td>\n",
       "      <td>NaN</td>\n",
       "      <td>NaN</td>\n",
       "      <td>I am contacting you to request information on ...</td>\n",
       "      <td>contacting request information data analytics ...</td>\n",
       "    </tr>\n",
       "    <tr>\n",
       "      <th>3</th>\n",
       "      <td>Krankenhaus-Dienstleistung-Problem</td>\n",
       "      <td>Ein Medien-Daten-Sperrverhalten trat aufgrund ...</td>\n",
       "      <td>Zurück zur E-Mail-Beschwerde über den Sperrver...</td>\n",
       "      <td>Incident</td>\n",
       "      <td>Customer Service</td>\n",
       "      <td>high</td>\n",
       "      <td>de</td>\n",
       "      <td>Security</td>\n",
       "      <td>Breach</td>\n",
       "      <td>Login</td>\n",
       "      <td>Maintenance</td>\n",
       "      <td>Incident</td>\n",
       "      <td>Resolution</td>\n",
       "      <td>Feedback</td>\n",
       "      <td>NaN</td>\n",
       "      <td>A media data blocking behavior occurred due to...</td>\n",
       "      <td>media data blocking behavior occurred due unau...</td>\n",
       "    </tr>\n",
       "    <tr>\n",
       "      <th>4</th>\n",
       "      <td>Security</td>\n",
       "      <td>Dear Customer Support, I am reaching out to in...</td>\n",
       "      <td>Dear [name], we take the security of medical d...</td>\n",
       "      <td>Request</td>\n",
       "      <td>Customer Service</td>\n",
       "      <td>medium</td>\n",
       "      <td>en</td>\n",
       "      <td>Security</td>\n",
       "      <td>Customer</td>\n",
       "      <td>Compliance</td>\n",
       "      <td>Breach</td>\n",
       "      <td>Documentation</td>\n",
       "      <td>Guidance</td>\n",
       "      <td>NaN</td>\n",
       "      <td>NaN</td>\n",
       "      <td>Dear Customer Support, I am reaching out to in...</td>\n",
       "      <td>dear customer support reaching inquire securit...</td>\n",
       "    </tr>\n",
       "  </tbody>\n",
       "</table>\n",
       "</div>"
      ],
      "text/plain": [
       "                                             subject  \\\n",
       "0  Unvorhergesehener Absturz der Datenanalyse-Pla...   \n",
       "1                           Customer Support Inquiry   \n",
       "2                      Data Analytics for Investment   \n",
       "3                 Krankenhaus-Dienstleistung-Problem   \n",
       "4                                           Security   \n",
       "\n",
       "                                                body  \\\n",
       "0  Die Datenanalyse-Plattform brach unerwartet ab...   \n",
       "1  Seeking information on digital strategies that...   \n",
       "2  I am contacting you to request information on ...   \n",
       "3  Ein Medien-Daten-Sperrverhalten trat aufgrund ...   \n",
       "4  Dear Customer Support, I am reaching out to in...   \n",
       "\n",
       "                                              answer      type  \\\n",
       "0  Ich werde Ihnen bei der Lösung des Problems he...  Incident   \n",
       "1  We offer a variety of digital strategies and s...   Request   \n",
       "2  I am here to assist you with data analytics to...   Request   \n",
       "3  Zurück zur E-Mail-Beschwerde über den Sperrver...  Incident   \n",
       "4  Dear [name], we take the security of medical d...   Request   \n",
       "\n",
       "              queue priority language      tag_1      tag_2       tag_3  \\\n",
       "0   General Inquiry      low       de      Crash  Technical         Bug   \n",
       "1  Customer Service   medium       en   Feedback      Sales          IT   \n",
       "2  Customer Service   medium       en  Technical    Product    Guidance   \n",
       "3  Customer Service     high       de   Security     Breach       Login   \n",
       "4  Customer Service   medium       en   Security   Customer  Compliance   \n",
       "\n",
       "           tag_4          tag_5       tag_6          tag_7 tag_8  \\\n",
       "0       Hardware     Resolution      Outage  Documentation   NaN   \n",
       "1   Tech Support            NaN         NaN            NaN   NaN   \n",
       "2  Documentation    Performance     Feature            NaN   NaN   \n",
       "3    Maintenance       Incident  Resolution       Feedback   NaN   \n",
       "4         Breach  Documentation    Guidance            NaN   NaN   \n",
       "\n",
       "                                     translated_body  \\\n",
       "0  The data analysis platform unexpectedly broke ...   \n",
       "1  Seeking information on digital strategies that...   \n",
       "2  I am contacting you to request information on ...   \n",
       "3  A media data blocking behavior occurred due to...   \n",
       "4  Dear Customer Support, I am reaching out to in...   \n",
       "\n",
       "                                        cleaned_text  \n",
       "0  data analysis platform unexpectedly broke memo...  \n",
       "1  seeking information digital strategies aid bra...  \n",
       "2  contacting request information data analytics ...  \n",
       "3  media data blocking behavior occurred due unau...  \n",
       "4  dear customer support reaching inquire securit...  "
      ]
     },
     "metadata": {},
     "output_type": "display_data"
    }
   ],
   "source": [
    "df = pd.read_csv(\"translated_data.csv\")\n",
    "tiket_df = pd.DataFrame(df)\n",
    "tqdm.pandas()\n",
    "stop_words = set(stopwords.words(\"english\"))\n",
    "punctuation = set(string.punctuation)\n",
    "display(tiket_df.head(5))"
   ]
  },
  {
   "cell_type": "markdown",
   "id": "08cb5d2f",
   "metadata": {},
   "source": [
    "### **Stop Words Removal**\n"
   ]
  },
  {
   "cell_type": "code",
   "execution_count": 41,
   "id": "471c1459",
   "metadata": {},
   "outputs": [
    {
     "name": "stderr",
     "output_type": "stream",
     "text": [
      " 86%|████████▋ | 17264/20000 [00:03<00:00, 4240.99it/s]"
     ]
    },
    {
     "data": {
      "text/html": [
       "<pre style=\"white-space:pre;overflow-x:auto;line-height:normal;font-family:Menlo,'DejaVu Sans Mono',consolas,'Courier New',monospace\">Not cleaned: \n",
       "</pre>\n"
      ],
      "text/plain": [
       "Not cleaned: \n"
      ]
     },
     "metadata": {},
     "output_type": "display_data"
    },
    {
     "name": "stderr",
     "output_type": "stream",
     "text": [
      " 89%|████████▊ | 17723/20000 [00:04<00:00, 4344.82it/s]"
     ]
    },
    {
     "data": {
      "text/html": [
       "<pre style=\"white-space:pre;overflow-x:auto;line-height:normal;font-family:Menlo,'DejaVu Sans Mono',consolas,'Courier New',monospace\">Not cleaned: \n",
       "</pre>\n"
      ],
      "text/plain": [
       "Not cleaned: \n"
      ]
     },
     "metadata": {},
     "output_type": "display_data"
    },
    {
     "name": "stderr",
     "output_type": "stream",
     "text": [
      "100%|██████████| 20000/20000 [00:04<00:00, 4258.60it/s]\n"
     ]
    },
    {
     "data": {
      "text/html": [
       "<div>\n",
       "<style scoped>\n",
       "    .dataframe tbody tr th:only-of-type {\n",
       "        vertical-align: middle;\n",
       "    }\n",
       "\n",
       "    .dataframe tbody tr th {\n",
       "        vertical-align: top;\n",
       "    }\n",
       "\n",
       "    .dataframe thead th {\n",
       "        text-align: right;\n",
       "    }\n",
       "</style>\n",
       "<table border=\"1\" class=\"dataframe\">\n",
       "  <thead>\n",
       "    <tr style=\"text-align: right;\">\n",
       "      <th></th>\n",
       "      <th>cleaned_text</th>\n",
       "      <th>translated_body</th>\n",
       "    </tr>\n",
       "  </thead>\n",
       "  <tbody>\n",
       "    <tr>\n",
       "      <th>0</th>\n",
       "      <td>data analysis platform unexpectedly broke memo...</td>\n",
       "      <td>The data analysis platform unexpectedly broke ...</td>\n",
       "    </tr>\n",
       "    <tr>\n",
       "      <th>1</th>\n",
       "      <td>seeking information digital strategies aid bra...</td>\n",
       "      <td>Seeking information on digital strategies that...</td>\n",
       "    </tr>\n",
       "    <tr>\n",
       "      <th>2</th>\n",
       "      <td>contacting request information data analytics ...</td>\n",
       "      <td>I am contacting you to request information on ...</td>\n",
       "    </tr>\n",
       "    <tr>\n",
       "      <th>3</th>\n",
       "      <td>media data blocking behavior occurred due unau...</td>\n",
       "      <td>A media data blocking behavior occurred due to...</td>\n",
       "    </tr>\n",
       "    <tr>\n",
       "      <th>4</th>\n",
       "      <td>dear customer support reaching inquire securit...</td>\n",
       "      <td>Dear Customer Support, I am reaching out to in...</td>\n",
       "    </tr>\n",
       "    <tr>\n",
       "      <th>5</th>\n",
       "      <td>inquiring best practices securing medical data...</td>\n",
       "      <td>Inquiring about best practices for securing me...</td>\n",
       "    </tr>\n",
       "    <tr>\n",
       "      <th>6</th>\n",
       "      <td>advice whether possible backup medical data hu...</td>\n",
       "      <td>Advice on whether it is possible to backup med...</td>\n",
       "    </tr>\n",
       "    <tr>\n",
       "      <th>7</th>\n",
       "      <td>integration stopped working unexpectedly causi...</td>\n",
       "      <td>The integration stopped working unexpectedly, ...</td>\n",
       "    </tr>\n",
       "    <tr>\n",
       "      <th>8</th>\n",
       "      <td>dear customer support writing regards recently...</td>\n",
       "      <td>Dear Customer Support, I am writing in regards...</td>\n",
       "    </tr>\n",
       "    <tr>\n",
       "      <th>9</th>\n",
       "      <td>latest data analysis reports inconsistent pote...</td>\n",
       "      <td>The latest data analysis reports are inconsist...</td>\n",
       "    </tr>\n",
       "    <tr>\n",
       "      <th>10</th>\n",
       "      <td>reaching report issue data analytics platform ...</td>\n",
       "      <td>I am reaching out to report an issue with our ...</td>\n",
       "    </tr>\n",
       "    <tr>\n",
       "      <th>11</th>\n",
       "      <td>dear customer support \\n\\ni reporting issue pr...</td>\n",
       "      <td>Dear Customer Support,\\n\\nI am reporting an is...</td>\n",
       "    </tr>\n",
       "    <tr>\n",
       "      <th>12</th>\n",
       "      <td>hello customer support team writing seek advic...</td>\n",
       "      <td>Hello Customer Support Team, I am writing to s...</td>\n",
       "    </tr>\n",
       "    <tr>\n",
       "      <th>13</th>\n",
       "      <td>dear customer support encountering problem web...</td>\n",
       "      <td>Dear Customer Support, I am encountering a pro...</td>\n",
       "    </tr>\n",
       "    <tr>\n",
       "      <th>14</th>\n",
       "      <td>data breach found assistance required</td>\n",
       "      <td>Data breach found, assistance required</td>\n",
       "    </tr>\n",
       "  </tbody>\n",
       "</table>\n",
       "</div>"
      ],
      "text/plain": [
       "                                         cleaned_text  \\\n",
       "0   data analysis platform unexpectedly broke memo...   \n",
       "1   seeking information digital strategies aid bra...   \n",
       "2   contacting request information data analytics ...   \n",
       "3   media data blocking behavior occurred due unau...   \n",
       "4   dear customer support reaching inquire securit...   \n",
       "5   inquiring best practices securing medical data...   \n",
       "6   advice whether possible backup medical data hu...   \n",
       "7   integration stopped working unexpectedly causi...   \n",
       "8   dear customer support writing regards recently...   \n",
       "9   latest data analysis reports inconsistent pote...   \n",
       "10  reaching report issue data analytics platform ...   \n",
       "11  dear customer support \\n\\ni reporting issue pr...   \n",
       "12  hello customer support team writing seek advic...   \n",
       "13  dear customer support encountering problem web...   \n",
       "14              data breach found assistance required   \n",
       "\n",
       "                                      translated_body  \n",
       "0   The data analysis platform unexpectedly broke ...  \n",
       "1   Seeking information on digital strategies that...  \n",
       "2   I am contacting you to request information on ...  \n",
       "3   A media data blocking behavior occurred due to...  \n",
       "4   Dear Customer Support, I am reaching out to in...  \n",
       "5   Inquiring about best practices for securing me...  \n",
       "6   Advice on whether it is possible to backup med...  \n",
       "7   The integration stopped working unexpectedly, ...  \n",
       "8   Dear Customer Support, I am writing in regards...  \n",
       "9   The latest data analysis reports are inconsist...  \n",
       "10  I am reaching out to report an issue with our ...  \n",
       "11  Dear Customer Support,\\n\\nI am reporting an is...  \n",
       "12  Hello Customer Support Team, I am writing to s...  \n",
       "13  Dear Customer Support, I am encountering a pro...  \n",
       "14             Data breach found, assistance required  "
      ]
     },
     "metadata": {},
     "output_type": "display_data"
    }
   ],
   "source": [
    "def clean_text(text):\n",
    "    if not isinstance(text, str):\n",
    "        return print(f\"Not cleaned: {\"\"}\")\n",
    "    tokens = word_tokenize(text.lower())\n",
    "    cleaned_tokens = [\n",
    "        word for word in tokens if word not in stop_words and word not in punctuation\n",
    "    ]\n",
    "    return \" \".join(cleaned_tokens)\n",
    "\n",
    "\n",
    "tiket_df[\"cleaned_text\"] = tiket_df[\"translated_body\"].progress_apply(clean_text)\n",
    "display(tiket_df[[\"cleaned_text\", \"translated_body\"]].head(15))"
   ]
  },
  {
   "cell_type": "markdown",
   "id": "a6148e58",
   "metadata": {},
   "source": [
    "# **Split Data**\n",
    "\n",
    "Data akan dibagi jadi 80:10:10 (dasarnya apa masih cari lupa nemu di mana). `type`, `queue ` dan `prioritas` masing-masing di-split 80:10:10.\n"
   ]
  },
  {
   "cell_type": "markdown",
   "id": "82ebbc1a",
   "metadata": {},
   "source": [
    "## **1 `priority`**\n"
   ]
  },
  {
   "cell_type": "code",
   "execution_count": 42,
   "id": "87fe45ff",
   "metadata": {},
   "outputs": [
    {
     "name": "stderr",
     "output_type": "stream",
     "text": [
      "C:\\Users\\prith\\AppData\\Local\\Temp\\ipykernel_3932\\2814839449.py:5: UserWarning: The palette list has more values (6) than needed (3), which may not be intended.\n",
      "  a = sns.countplot(\n"
     ]
    },
    {
     "data": {
      "text/html": [
       "<pre style=\"white-space:pre;overflow-x:auto;line-height:normal;font-family:Menlo,'DejaVu Sans Mono',consolas,'Courier New',monospace\">Ukuran data training <span style=\"font-weight: bold\">(</span><span style=\"color: #008080; text-decoration-color: #008080; font-weight: bold\">80</span>%<span style=\"font-weight: bold\">)</span>: <span style=\"color: #008080; text-decoration-color: #008080; font-weight: bold\">16000</span> sampel\n",
       "</pre>\n"
      ],
      "text/plain": [
       "Ukuran data training \u001b[1m(\u001b[0m\u001b[1;36m80\u001b[0m%\u001b[1m)\u001b[0m: \u001b[1;36m16000\u001b[0m sampel\n"
      ]
     },
     "metadata": {},
     "output_type": "display_data"
    },
    {
     "data": {
      "text/plain": [
       "6376    hello customer support contacting request crea...\n",
       "5074    unauthorized access attempt identified hospita...\n",
       "2674            data breach happened software out-of-date\n",
       "9706                  unexpected charges appear statement\n",
       "6089    hello customer support contacting request deta...\n",
       "Name: cleaned_text, dtype: object"
      ]
     },
     "metadata": {},
     "output_type": "display_data"
    },
    {
     "data": {
      "text/html": [
       "<pre style=\"white-space:pre;overflow-x:auto;line-height:normal;font-family:Menlo,'DejaVu Sans Mono',consolas,'Courier New',monospace\">Ukuran data validasi <span style=\"font-weight: bold\">(</span><span style=\"color: #008080; text-decoration-color: #008080; font-weight: bold\">10</span>%<span style=\"font-weight: bold\">)</span>: <span style=\"color: #008080; text-decoration-color: #008080; font-weight: bold\">2000</span> sampel\n",
       "</pre>\n"
      ],
      "text/plain": [
       "Ukuran data validasi \u001b[1m(\u001b[0m\u001b[1;36m10\u001b[0m%\u001b[1m)\u001b[0m: \u001b[1;36m2000\u001b[0m sampel\n"
      ]
     },
     "metadata": {},
     "output_type": "display_data"
    },
    {
     "data": {
      "text/plain": [
       "8317     crashes graphics suite using pytorch integrati...\n",
       "18232    hello customer support team project schedules ...\n",
       "19942    customer support \\n\\ni reporting service outag...\n",
       "2378     sensitive medical data read unauthorized due w...\n",
       "8851     contacting request information analytics tools...\n",
       "Name: cleaned_text, dtype: object"
      ]
     },
     "metadata": {},
     "output_type": "display_data"
    },
    {
     "data": {
      "text/html": [
       "<pre style=\"white-space:pre;overflow-x:auto;line-height:normal;font-family:Menlo,'DejaVu Sans Mono',consolas,'Courier New',monospace\">Ukuran data testing <span style=\"font-weight: bold\">(</span><span style=\"color: #008080; text-decoration-color: #008080; font-weight: bold\">10</span>%<span style=\"font-weight: bold\">)</span>: <span style=\"color: #008080; text-decoration-color: #008080; font-weight: bold\">2000</span> sampel\n",
       "</pre>\n"
      ],
      "text/plain": [
       "Ukuran data testing \u001b[1m(\u001b[0m\u001b[1;36m10\u001b[0m%\u001b[1m)\u001b[0m: \u001b[1;36m2000\u001b[0m sampel\n"
      ]
     },
     "metadata": {},
     "output_type": "display_data"
    },
    {
     "data": {
      "text/plain": [
       "5446     could offer detailed information integrating i...\n",
       "14657    give details data analytics improves financial...\n",
       "6579     dear customer support team \\n\\ni writing bring...\n",
       "13013    customer support seeking advice optimizing inv...\n",
       "2388     digital campaigns unexpectedly crashed incompa...\n",
       "Name: cleaned_text, dtype: object"
      ]
     },
     "metadata": {},
     "output_type": "display_data"
    },
    {
     "data": {
      "text/html": [
       "<pre style=\"white-space:pre;overflow-x:auto;line-height:normal;font-family:Menlo,'DejaVu Sans Mono',consolas,'Courier New',monospace\">Distribusi kelas <span style=\"color: #008000; text-decoration-color: #008000\">'priority'</span> di setiap set:\n",
       "</pre>\n"
      ],
      "text/plain": [
       "Distribusi kelas \u001b[32m'priority'\u001b[0m di setiap set:\n"
      ]
     },
     "metadata": {},
     "output_type": "display_data"
    },
    {
     "data": {
      "text/html": [
       "<pre style=\"white-space:pre;overflow-x:auto;line-height:normal;font-family:Menlo,'DejaVu Sans Mono',consolas,'Courier New',monospace\">Training:\n",
       "</pre>\n"
      ],
      "text/plain": [
       "Training:\n"
      ]
     },
     "metadata": {},
     "output_type": "display_data"
    },
    {
     "data": {
      "text/plain": [
       "priority\n",
       "medium    40.72%\n",
       "high      39.01%\n",
       "low       20.28%\n",
       "Name: proportion, dtype: object"
      ]
     },
     "metadata": {},
     "output_type": "display_data"
    },
    {
     "data": {
      "text/html": [
       "<pre style=\"white-space:pre;overflow-x:auto;line-height:normal;font-family:Menlo,'DejaVu Sans Mono',consolas,'Courier New',monospace\">\n",
       "Validation:\n",
       "</pre>\n"
      ],
      "text/plain": [
       "\n",
       "Validation:\n"
      ]
     },
     "metadata": {},
     "output_type": "display_data"
    },
    {
     "data": {
      "text/plain": [
       "priority\n",
       "medium    40.75%\n",
       "high       39.0%\n",
       "low       20.25%\n",
       "Name: proportion, dtype: object"
      ]
     },
     "metadata": {},
     "output_type": "display_data"
    },
    {
     "data": {
      "text/html": [
       "<pre style=\"white-space:pre;overflow-x:auto;line-height:normal;font-family:Menlo,'DejaVu Sans Mono',consolas,'Courier New',monospace\">\n",
       "Testing:\n",
       "</pre>\n"
      ],
      "text/plain": [
       "\n",
       "Testing:\n"
      ]
     },
     "metadata": {},
     "output_type": "display_data"
    },
    {
     "data": {
      "text/plain": [
       "priority\n",
       "medium    40.7%\n",
       "high      39.0%\n",
       "low       20.3%\n",
       "Name: proportion, dtype: object"
      ]
     },
     "metadata": {},
     "output_type": "display_data"
    },
    {
     "data": {
      "image/png": "[encoded data removed]",
      "text/plain": [
       "<Figure size 1000x600 with 1 Axes>"
      ]
     },
     "metadata": {},
     "output_type": "display_data"
    }
   ],
   "source": [
    "priority = pd.DataFrame(tiket_df[\"priority\"])\n",
    "priority_order = df[\"priority\"].value_counts().index\n",
    "\n",
    "plt.figure(figsize=(10, 6))\n",
    "a = sns.countplot(\n",
    "    data=df,\n",
    "    x=\"priority\",\n",
    "    hue=\"priority\",\n",
    "    order=priority_order,\n",
    "    palette=sns.color_palette(\"mako\"),\n",
    ")\n",
    "for container in a.containers:\n",
    "    a.bar_label(container, fmt=\"%d\", label_type=\"edge\", padding=5)\n",
    "plt.title(\"Priority Distribution\")\n",
    "plt.xlabel(\"Priority\")\n",
    "plt.ylabel(\"Count\")\n",
    "\n",
    "\n",
    "X = tiket_df[\"cleaned_text\"]\n",
    "y = tiket_df[\"priority\"]\n",
    "\n",
    "# Training\n",
    "X_train, X_temp, y_train, y_temp = train_test_split(\n",
    "    X, y, test_size=0.2, random_state=42, stratify=y\n",
    ")\n",
    "\n",
    "# Testing & Validasi\n",
    "X_val, X_test, y_val, y_test = train_test_split(\n",
    "    X_temp, y_temp, test_size=0.5, random_state=42, stratify=y_temp\n",
    ")\n",
    "\n",
    "print(f\"Ukuran data training (80%): {len(X_train)} sampel\")\n",
    "display(X_train.head(5))\n",
    "print(f\"Ukuran data validasi (10%): {len(X_val)} sampel\")\n",
    "display(X_val.head(5))\n",
    "print(f\"Ukuran data testing (10%): {len(X_test)} sampel\")\n",
    "display(X_test.head(5))\n",
    "\n",
    "print(\"Distribusi kelas 'priority' di setiap set:\")\n",
    "print(\"Training:\")\n",
    "display(y_train.value_counts(normalize=True).mul(100).round(2).astype(str) + \"%\")\n",
    "print(\"\\nValidation:\")\n",
    "display(y_val.value_counts(normalize=True).mul(100).round(2).astype(str) + \"%\")\n",
    "print(\"\\nTesting:\")\n",
    "display(y_test.value_counts(normalize=True).mul(100).round(2).astype(str) + \"%\")"
   ]
  },
  {
   "cell_type": "markdown",
   "id": "93bff475",
   "metadata": {},
   "source": [
    "## **2 `Type`**\n"
   ]
  },
  {
   "cell_type": "code",
   "execution_count": null,
   "id": "c5624083",
   "metadata": {},
   "outputs": [
    {
     "name": "stderr",
     "output_type": "stream",
     "text": [
      "C:\\Users\\prith\\AppData\\Local\\Temp\\ipykernel_3932\\3747954565.py:5: UserWarning: The palette list has more values (6) than needed (4), which may not be intended.\n",
      "  a = sns.countplot(\n"
     ]
    },
    {
     "data": {
      "text/html": [
       "<pre style=\"white-space:pre;overflow-x:auto;line-height:normal;font-family:Menlo,'DejaVu Sans Mono',consolas,'Courier New',monospace\">Ukuran data training <span style=\"font-weight: bold\">(</span><span style=\"color: #008080; text-decoration-color: #008080; font-weight: bold\">80</span>%<span style=\"font-weight: bold\">)</span>: <span style=\"color: #008080; text-decoration-color: #008080; font-weight: bold\">16000</span> sampel\n",
       "</pre>\n"
      ],
      "text/plain": [
       "Ukuran data training \u001b[1m(\u001b[0m\u001b[1;36m80\u001b[0m%\u001b[1m)\u001b[0m: \u001b[1;36m16000\u001b[0m sampel\n"
      ]
     },
     "metadata": {},
     "output_type": "display_data"
    },
    {
     "data": {
      "text/plain": [
       "15150    dear customer support inquiring payment option...\n",
       "6484     dear customer support would like contact clari...\n",
       "10232    unexpected deduction account statement found p...\n",
       "1393     require information system specifications need...\n",
       "10117    reaching support customer seeks guidance secur...\n",
       "Name: cleaned_text, dtype: object"
      ]
     },
     "metadata": {},
     "output_type": "display_data"
    },
    {
     "data": {
      "text/html": [
       "<pre style=\"white-space:pre;overflow-x:auto;line-height:normal;font-family:Menlo,'DejaVu Sans Mono',consolas,'Courier New',monospace\">Ukuran data validasi <span style=\"font-weight: bold\">(</span><span style=\"color: #008080; text-decoration-color: #008080; font-weight: bold\">10</span>%<span style=\"font-weight: bold\">)</span>: <span style=\"color: #008080; text-decoration-color: #008080; font-weight: bold\">2000</span> sampel\n",
       "</pre>\n"
      ],
      "text/plain": [
       "Ukuran data validasi \u001b[1m(\u001b[0m\u001b[1;36m10\u001b[0m%\u001b[1m)\u001b[0m: \u001b[1;36m2000\u001b[0m sampel\n"
      ]
     },
     "metadata": {},
     "output_type": "display_data"
    },
    {
     "data": {
      "text/plain": [
       "18282    marketing campaigns performing expected despit...\n",
       "6083     security steps taken ensure hipaa-compliant da...\n",
       "17329    dear customer service \\n\\nich write draw atten...\n",
       "18369    investment optimization software intermittentl...\n",
       "18135                   tools employed investment purposes\n",
       "Name: cleaned_text, dtype: object"
      ]
     },
     "metadata": {},
     "output_type": "display_data"
    },
    {
     "data": {
      "text/html": [
       "<pre style=\"white-space:pre;overflow-x:auto;line-height:normal;font-family:Menlo,'DejaVu Sans Mono',consolas,'Courier New',monospace\">Ukuran data testing <span style=\"font-weight: bold\">(</span><span style=\"color: #008080; text-decoration-color: #008080; font-weight: bold\">10</span>%<span style=\"font-weight: bold\">)</span>: <span style=\"color: #008080; text-decoration-color: #008080; font-weight: bold\">2000</span> sampel\n",
       "</pre>\n"
      ],
      "text/plain": [
       "Ukuran data testing \u001b[1m(\u001b[0m\u001b[1;36m10\u001b[0m%\u001b[1m)\u001b[0m: \u001b[1;36m2000\u001b[0m sampel\n"
      ]
     },
     "metadata": {},
     "output_type": "display_data"
    },
    {
     "data": {
      "text/plain": [
       "8820     contacting seek information best digital strat...\n",
       "19141    hello aware connectivity issues experiencing s...\n",
       "13849    one event committee difficulties affecting bra...\n",
       "10122    dear customer support contacting report proble...\n",
       "3357     customer support seeking information digital s...\n",
       "Name: cleaned_text, dtype: object"
      ]
     },
     "metadata": {},
     "output_type": "display_data"
    },
    {
     "data": {
      "text/html": [
       "<pre style=\"white-space:pre;overflow-x:auto;line-height:normal;font-family:Menlo,'DejaVu Sans Mono',consolas,'Courier New',monospace\">Distribusi kelas <span style=\"color: #008000; text-decoration-color: #008000\">'priority'</span> di setiap set:\n",
       "</pre>\n"
      ],
      "text/plain": [
       "Distribusi kelas \u001b[32m'priority'\u001b[0m di setiap set:\n"
      ]
     },
     "metadata": {},
     "output_type": "display_data"
    },
    {
     "data": {
      "text/html": [
       "<pre style=\"white-space:pre;overflow-x:auto;line-height:normal;font-family:Menlo,'DejaVu Sans Mono',consolas,'Courier New',monospace\">Training:\n",
       "</pre>\n"
      ],
      "text/plain": [
       "Training:\n"
      ]
     },
     "metadata": {},
     "output_type": "display_data"
    },
    {
     "data": {
      "text/plain": [
       "type\n",
       "Incident    39.89%\n",
       "Request     28.82%\n",
       "Problem     20.92%\n",
       "Change      10.38%\n",
       "Name: proportion, dtype: object"
      ]
     },
     "metadata": {},
     "output_type": "display_data"
    },
    {
     "data": {
      "text/html": [
       "<pre style=\"white-space:pre;overflow-x:auto;line-height:normal;font-family:Menlo,'DejaVu Sans Mono',consolas,'Courier New',monospace\">\n",
       "Validation:\n",
       "</pre>\n"
      ],
      "text/plain": [
       "\n",
       "Validation:\n"
      ]
     },
     "metadata": {},
     "output_type": "display_data"
    },
    {
     "data": {
      "text/plain": [
       "type\n",
       "Incident    39.35%\n",
       "Request      28.7%\n",
       "Problem     21.25%\n",
       "Change       10.7%\n",
       "Name: proportion, dtype: object"
      ]
     },
     "metadata": {},
     "output_type": "display_data"
    },
    {
     "data": {
      "text/html": [
       "<pre style=\"white-space:pre;overflow-x:auto;line-height:normal;font-family:Menlo,'DejaVu Sans Mono',consolas,'Courier New',monospace\">\n",
       "Testing:\n",
       "</pre>\n"
      ],
      "text/plain": [
       "\n",
       "Testing:\n"
      ]
     },
     "metadata": {},
     "output_type": "display_data"
    },
    {
     "data": {
      "text/plain": [
       "type\n",
       "Incident    40.45%\n",
       "Request      28.9%\n",
       "Problem      20.6%\n",
       "Change      10.05%\n",
       "Name: proportion, dtype: object"
      ]
     },
     "metadata": {},
     "output_type": "display_data"
    },
    {
     "ename": "NameError",
     "evalue": "name 'compute_class_weight' is not defined",
     "output_type": "error",
     "traceback": [
      "\u001b[31m---------------------------------------------------------------------------\u001b[39m",
      "\u001b[31mNameError\u001b[39m                                 Traceback (most recent call last)",
      "\u001b[36mCell\u001b[39m\u001b[36m \u001b[39m\u001b[32mIn[43]\u001b[39m\u001b[32m, line 46\u001b[39m\n\u001b[32m     43\u001b[39m display(y_test_type.value_counts(normalize=\u001b[38;5;28;01mTrue\u001b[39;00m).mul(\u001b[32m100\u001b[39m).round(\u001b[32m2\u001b[39m).astype(\u001b[38;5;28mstr\u001b[39m) + \u001b[33m\"\u001b[39m\u001b[33m%\u001b[39m\u001b[33m\"\u001b[39m)\n\u001b[32m     45\u001b[39m classes = np.unique(y_train)\n\u001b[32m---> \u001b[39m\u001b[32m46\u001b[39m weights = \u001b[43mcompute_class_weight\u001b[49m(\u001b[33m\"\u001b[39m\u001b[33mbalanced\u001b[39m\u001b[33m\"\u001b[39m, classes=classes, y=y_train)\n\u001b[32m     47\u001b[39m weights = torch.tensor(weights, dtype=torch.float)\n",
      "\u001b[31mNameError\u001b[39m: name 'compute_class_weight' is not defined"
     ]
    },
    {
     "data": {
      "image/png": "[encoded data removed]",
      "text/plain": [
       "<Figure size 1000x600 with 1 Axes>"
      ]
     },
     "metadata": {},
     "output_type": "display_data"
    }
   ],
   "source": [
    "type = pd.DataFrame(tiket_df[\"type\"])\n",
    "type_order = df[\"type\"].value_counts().index\n",
    "\n",
    "plt.figure(figsize=(10, 6))\n",
    "a = sns.countplot(\n",
    "    data=df,\n",
    "    x=\"type\",\n",
    "    hue=\"type\",\n",
    "    order=type_order,\n",
    "    palette=sns.color_palette(\"mako\"),\n",
    ")\n",
    "for container in a.containers:\n",
    "    a.bar_label(container, fmt=\"%d\", label_type=\"edge\", padding=5)\n",
    "plt.title(\"Type Distribution\")\n",
    "plt.xlabel(\"Type\")\n",
    "plt.ylabel(\"Count\")\n",
    "\n",
    "\n",
    "X = tiket_df[\"cleaned_text\"]\n",
    "y = tiket_df[\"type\"]\n",
    "\n",
    "X_train_type, X_temp_type, y_train_type, y_temp_type = train_test_split(\n",
    "    X, y, test_size=0.2, random_state=42, stratify=y\n",
    ")\n",
    "\n",
    "X_val_type, X_test_type, y_val_type, y_test_type = train_test_split(\n",
    "    X_temp_type, y_temp_type, test_size=0.5, random_state=42, stratify=y_temp\n",
    ")\n",
    "\n",
    "print(f\"Ukuran data training (80%): {len(X_train_type)} sampel\")\n",
    "display(X_train_type.head(5))\n",
    "print(f\"Ukuran data validasi (10%): {len(X_val_type)} sampel\")\n",
    "display(X_val_type.head(5))\n",
    "print(f\"Ukuran data testing (10%): {len(X_test_type)} sampel\")\n",
    "display(X_test_type.head(5))\n",
    "\n",
    "print(\"Distribusi kelas 'priority' di setiap set:\")\n",
    "print(\"Training:\")\n",
    "display(y_train_type.value_counts(normalize=True).mul(100).round(2).astype(str) + \"%\")\n",
    "print(\"\\nValidation:\")\n",
    "display(y_val_type.value_counts(normalize=True).mul(100).round(2).astype(str) + \"%\")\n",
    "print(\"\\nTesting:\")\n",
    "display(y_test_type.value_counts(normalize=True).mul(100).round(2).astype(str) + \"%\")"
   ]
  },
  {
   "cell_type": "markdown",
   "id": "d73964ea",
   "metadata": {},
   "source": [
    "### **Class Weighting**\n"
   ]
  },
  {
   "cell_type": "code",
   "execution_count": 50,
   "id": "b62f8fde",
   "metadata": {},
   "outputs": [
    {
     "data": {
      "text/html": [
       "<pre style=\"white-space:pre;overflow-x:auto;line-height:normal;font-family:Menlo,'DejaVu Sans Mono',consolas,'Courier New',monospace\">bobot priority: <span style=\"color: #800080; text-decoration-color: #800080; font-weight: bold\">tensor</span><span style=\"font-weight: bold\">([</span><span style=\"color: #008080; text-decoration-color: #008080; font-weight: bold\">0.8546</span>, <span style=\"color: #008080; text-decoration-color: #008080; font-weight: bold\">1.6441</span>, <span style=\"color: #008080; text-decoration-color: #008080; font-weight: bold\">0.8186</span><span style=\"font-weight: bold\">])</span>\n",
       "</pre>\n"
      ],
      "text/plain": [
       "bobot priority: \u001b[1;35mtensor\u001b[0m\u001b[1m(\u001b[0m\u001b[1m[\u001b[0m\u001b[1;36m0.8546\u001b[0m, \u001b[1;36m1.6441\u001b[0m, \u001b[1;36m0.8186\u001b[0m\u001b[1m]\u001b[0m\u001b[1m)\u001b[0m\n"
      ]
     },
     "metadata": {},
     "output_type": "display_data"
    },
    {
     "data": {
      "text/html": [
       "<pre style=\"white-space:pre;overflow-x:auto;line-height:normal;font-family:Menlo,'DejaVu Sans Mono',consolas,'Courier New',monospace\">bobot type: <span style=\"color: #800080; text-decoration-color: #800080; font-weight: bold\">tensor</span><span style=\"font-weight: bold\">([</span><span style=\"color: #008080; text-decoration-color: #008080; font-weight: bold\">2.4096</span>, <span style=\"color: #008080; text-decoration-color: #008080; font-weight: bold\">0.6268</span>, <span style=\"color: #008080; text-decoration-color: #008080; font-weight: bold\">1.1951</span>, <span style=\"color: #008080; text-decoration-color: #008080; font-weight: bold\">0.8675</span><span style=\"font-weight: bold\">])</span>\n",
       "</pre>\n"
      ],
      "text/plain": [
       "bobot type: \u001b[1;35mtensor\u001b[0m\u001b[1m(\u001b[0m\u001b[1m[\u001b[0m\u001b[1;36m2.4096\u001b[0m, \u001b[1;36m0.6268\u001b[0m, \u001b[1;36m1.1951\u001b[0m, \u001b[1;36m0.8675\u001b[0m\u001b[1m]\u001b[0m\u001b[1m)\u001b[0m\n"
      ]
     },
     "metadata": {},
     "output_type": "display_data"
    }
   ],
   "source": [
    "from sklearn.utils.class_weight import compute_class_weight\n",
    "import numpy as np\n",
    "\n",
    "\n",
    "classes_type = np.unique(y_train_type)\n",
    "class_weights_type = compute_class_weight(\n",
    "    class_weight=\"balanced\", classes=classes_type, y=y_train_type\n",
    ")\n",
    "\n",
    "classes = np.unique(y_train)\n",
    "class_weights = compute_class_weight(\n",
    "    class_weight=\"balanced\", classes=classes, y=y_train\n",
    ")\n",
    "weights_priority = torch.tensor(class_weights, dtype=torch.float)\n",
    "weights_type = torch.tensor(class_weights_type, dtype=torch.float)\n",
    "print(f\"bobot priority: {weights_priority}\")\n",
    "print(f\"bobot type: {weights_type}\")"
   ]
  },
  {
   "cell_type": "markdown",
   "id": "b3507cb9",
   "metadata": {},
   "source": [
    "### **BERT CLS Tokenization**\n",
    "\n",
    "Tokenisasi untukj `priority` yang sudah di split ke `X_train`,`X_test`,`X_val`\n"
   ]
  },
  {
   "cell_type": "code",
   "execution_count": null,
   "id": "c15848d6",
   "metadata": {},
   "outputs": [],
   "source": [
    "tokenizer = BertTokenizer.from_pretrained(\"bert-base-uncased\")\n",
    "\n",
    "\n",
    "def tokenize_text(data):\n",
    "    return tokenizer(\n",
    "        data.astype(str).fillna(\"\").tolist(),\n",
    "        padding=True,\n",
    "        truncation=True,\n",
    "        return_tensors=\"pt\",\n",
    "    )\n",
    "\n",
    "\n",
    "train_encodings = tokenize_text(X_train)\n",
    "val_encodings = tokenize_text(X_val)\n",
    "test_encodings = tokenize_text(X_test)\n",
    "\n",
    "torch.save(train_encodings, \"train_encodings.pt\")\n",
    "torch.save(val_encodings, \"val_encodings.pt\")\n",
    "torch.save(test_encodings, \"test_encodings.pt\")"
   ]
  },
  {
   "cell_type": "code",
   "execution_count": null,
   "id": "4f38473c",
   "metadata": {},
   "outputs": [],
   "source": [
    "train_data = torch.load(\"train_encodings.pt\", weights_only=False)\n",
    "test_data = torch.load(\"test_encodings.pt\", weights_only=False)\n",
    "val_data = torch.load(\"val_encodings.pt\", weights_only=False)"
   ]
  }
 ],
 "metadata": {
  "kernelspec": {
   "display_name": "Python 3",
   "language": "python",
   "name": "python3"
  },
  "language_info": {
   "codemirror_mode": {
    "name": "ipython",
    "version": 3
   },
   "file_extension": ".py",
   "mimetype": "text/x-python",
   "name": "python",
   "nbconvert_exporter": "python",
   "pygments_lexer": "ipython3",
   "version": "3.13.2"
  }
 },
 "nbformat": 4,
 "nbformat_minor": 5
}
