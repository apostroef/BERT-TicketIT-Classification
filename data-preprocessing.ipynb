{
 "cells": [
  {
   "cell_type": "code",
   "execution_count": 1,
   "id": "e50e8918",
   "metadata": {},
   "outputs": [
    {
     "name": "stderr",
     "output_type": "stream",
     "text": [
      "c:\\Users\\prith\\AppData\\Local\\Programs\\Python\\Python313\\Lib\\site-packages\\tqdm\\auto.py:21: TqdmWarning: IProgress not found. Please update jupyter and ipywidgets. See https://ipywidgets.readthedocs.io/en/stable/user_install.html\n",
      "  from .autonotebook import tqdm as notebook_tqdm\n"
     ]
    }
   ],
   "source": [
    "from transformers import BertTokenizer\n",
    "from transformers import MarianMTModel, MarianTokenizer\n",
    "import nltk\n",
    "import pandas as pd\n",
    "import scipy.stats as stats\n",
    "import numpy as np\n",
    "import matplotlib.pyplot as plt\n",
    "import seaborn as sns\n",
    "import re\n",
    "from rich import print\n",
    "from rich.table import Table\n",
    "from rich.console import Console\n",
    "import shutil\n",
    "import torch\n",
    "import sacremoses\n",
    "import sentencepiece\n",
    "\n",
    "pd.set_option(\"display.max_columns\", None)\n",
    "pd.set_option(\"display.max_rows\", None)\n",
    "terminal_width = shutil.get_terminal_size().columns"
   ]
  },
  {
   "cell_type": "markdown",
   "id": "eb3d3381",
   "metadata": {},
   "source": [
    "# **Data Information & Representation**\n",
    "\n",
    "Informasi terkait dataset yang dijelaskan melalui:\n",
    "\n",
    "<li>Null Handling</li>\n",
    "<li>Cek Outlier</li>\n",
    "<li>Split En & De</li>\n",
    "<li>?</li>\n"
   ]
  },
  {
   "cell_type": "code",
   "execution_count": null,
   "id": "d68a44fb",
   "metadata": {},
   "outputs": [
    {
     "data": {
      "text/html": [
       "<pre style=\"white-space:pre;overflow-x:auto;line-height:normal;font-family:Menlo,'DejaVu Sans Mono',consolas,'Courier New',monospace\"><span style=\"color: #00ff00; text-decoration-color: #00ff00\">────────────────────── </span><span style=\"color: #c0c0c0; text-decoration-color: #c0c0c0; font-weight: bold\">Data Information &amp; Representation</span><span style=\"color: #00ff00; text-decoration-color: #00ff00\"> ───────────────────────</span>\n",
       "</pre>\n"
      ],
      "text/plain": [
       "\u001b[92m────────────────────── \u001b[0m\u001b[1;37mData Information & Representation\u001b[0m\u001b[92m ───────────────────────\u001b[0m\n"
      ]
     },
     "metadata": {},
     "output_type": "display_data"
    },
    {
     "data": {
      "text/html": [
       "<pre style=\"white-space:pre;overflow-x:auto;line-height:normal;font-family:Menlo,'DejaVu Sans Mono',consolas,'Courier New',monospace\">                                             subject  \\\n",
       "<span style=\"color: #008080; text-decoration-color: #008080; font-weight: bold\">0</span>  Unvorhergesehener Absturz der Datenanalyse-Pla<span style=\"color: #808000; text-decoration-color: #808000\">...</span>   \n",
       "<span style=\"color: #008080; text-decoration-color: #008080; font-weight: bold\">1</span>                           Customer Support Inquiry   \n",
       "<span style=\"color: #008080; text-decoration-color: #008080; font-weight: bold\">2</span>                      Data Analytics for Investment   \n",
       "<span style=\"color: #008080; text-decoration-color: #008080; font-weight: bold\">3</span>                 Krankenhaus-Dienstleistung-Problem   \n",
       "<span style=\"color: #008080; text-decoration-color: #008080; font-weight: bold\">4</span>                                           Security   \n",
       "\n",
       "                                                body  \\\n",
       "<span style=\"color: #008080; text-decoration-color: #008080; font-weight: bold\">0</span>  Die Datenanalyse-Plattform brach unerwartet ab<span style=\"color: #808000; text-decoration-color: #808000\">...</span>   \n",
       "<span style=\"color: #008080; text-decoration-color: #008080; font-weight: bold\">1</span>  Seeking information on digital strategies that<span style=\"color: #808000; text-decoration-color: #808000\">...</span>   \n",
       "<span style=\"color: #008080; text-decoration-color: #008080; font-weight: bold\">2</span>  I am contacting you to request information on <span style=\"color: #808000; text-decoration-color: #808000\">...</span>   \n",
       "<span style=\"color: #008080; text-decoration-color: #008080; font-weight: bold\">3</span>  Ein Medien-Daten-Sperrverhalten trat aufgrund <span style=\"color: #808000; text-decoration-color: #808000\">...</span>   \n",
       "<span style=\"color: #008080; text-decoration-color: #008080; font-weight: bold\">4</span>  Dear Customer Support, I am reaching out to in<span style=\"color: #808000; text-decoration-color: #808000\">...</span>   \n",
       "\n",
       "                                              answer      type  \\\n",
       "<span style=\"color: #008080; text-decoration-color: #008080; font-weight: bold\">0</span>  Ich werde Ihnen bei der Lösung des Problems he<span style=\"color: #808000; text-decoration-color: #808000\">...</span>  Incident   \n",
       "<span style=\"color: #008080; text-decoration-color: #008080; font-weight: bold\">1</span>  We offer a variety of digital strategies and s<span style=\"color: #808000; text-decoration-color: #808000\">...</span>   Request   \n",
       "<span style=\"color: #008080; text-decoration-color: #008080; font-weight: bold\">2</span>  I am here to assist you with data analytics to<span style=\"color: #808000; text-decoration-color: #808000\">...</span>   Request   \n",
       "<span style=\"color: #008080; text-decoration-color: #008080; font-weight: bold\">3</span>  Zurück zur E-Mail-Beschwerde über den Sperrver<span style=\"color: #808000; text-decoration-color: #808000\">...</span>  Incident   \n",
       "<span style=\"color: #008080; text-decoration-color: #008080; font-weight: bold\">4</span>  Dear <span style=\"font-weight: bold\">[</span>name<span style=\"font-weight: bold\">]</span>, we take the security of medical d<span style=\"color: #808000; text-decoration-color: #808000\">...</span>   Request   \n",
       "\n",
       "              queue priority language      tag_1      tag_2       tag_3  \\\n",
       "<span style=\"color: #008080; text-decoration-color: #008080; font-weight: bold\">0</span>   General Inquiry      low       de      Crash  Technical         Bug   \n",
       "<span style=\"color: #008080; text-decoration-color: #008080; font-weight: bold\">1</span>  Customer Service   medium       en   Feedback      Sales          IT   \n",
       "<span style=\"color: #008080; text-decoration-color: #008080; font-weight: bold\">2</span>  Customer Service   medium       en  Technical    Product    Guidance   \n",
       "<span style=\"color: #008080; text-decoration-color: #008080; font-weight: bold\">3</span>  Customer Service     high       de   Security     Breach       Login   \n",
       "<span style=\"color: #008080; text-decoration-color: #008080; font-weight: bold\">4</span>  Customer Service   medium       en   Security   Customer  Compliance   \n",
       "\n",
       "           tag_4          tag_5       tag_6          tag_7 tag_8  \n",
       "<span style=\"color: #008080; text-decoration-color: #008080; font-weight: bold\">0</span>       Hardware     Resolution      Outage  Documentation   NaN  \n",
       "<span style=\"color: #008080; text-decoration-color: #008080; font-weight: bold\">1</span>   Tech Support            NaN         NaN            NaN   NaN  \n",
       "<span style=\"color: #008080; text-decoration-color: #008080; font-weight: bold\">2</span>  Documentation    Performance     Feature            NaN   NaN  \n",
       "<span style=\"color: #008080; text-decoration-color: #008080; font-weight: bold\">3</span>    Maintenance       Incident  Resolution       Feedback   NaN  \n",
       "<span style=\"color: #008080; text-decoration-color: #008080; font-weight: bold\">4</span>         Breach  Documentation    Guidance            NaN   NaN  \n",
       "</pre>\n"
      ],
      "text/plain": [
       "                                             subject  \\\n",
       "\u001b[1;36m0\u001b[0m  Unvorhergesehener Absturz der Datenanalyse-Pla\u001b[33m...\u001b[0m   \n",
       "\u001b[1;36m1\u001b[0m                           Customer Support Inquiry   \n",
       "\u001b[1;36m2\u001b[0m                      Data Analytics for Investment   \n",
       "\u001b[1;36m3\u001b[0m                 Krankenhaus-Dienstleistung-Problem   \n",
       "\u001b[1;36m4\u001b[0m                                           Security   \n",
       "\n",
       "                                                body  \\\n",
       "\u001b[1;36m0\u001b[0m  Die Datenanalyse-Plattform brach unerwartet ab\u001b[33m...\u001b[0m   \n",
       "\u001b[1;36m1\u001b[0m  Seeking information on digital strategies that\u001b[33m...\u001b[0m   \n",
       "\u001b[1;36m2\u001b[0m  I am contacting you to request information on \u001b[33m...\u001b[0m   \n",
       "\u001b[1;36m3\u001b[0m  Ein Medien-Daten-Sperrverhalten trat aufgrund \u001b[33m...\u001b[0m   \n",
       "\u001b[1;36m4\u001b[0m  Dear Customer Support, I am reaching out to in\u001b[33m...\u001b[0m   \n",
       "\n",
       "                                              answer      type  \\\n",
       "\u001b[1;36m0\u001b[0m  Ich werde Ihnen bei der Lösung des Problems he\u001b[33m...\u001b[0m  Incident   \n",
       "\u001b[1;36m1\u001b[0m  We offer a variety of digital strategies and s\u001b[33m...\u001b[0m   Request   \n",
       "\u001b[1;36m2\u001b[0m  I am here to assist you with data analytics to\u001b[33m...\u001b[0m   Request   \n",
       "\u001b[1;36m3\u001b[0m  Zurück zur E-Mail-Beschwerde über den Sperrver\u001b[33m...\u001b[0m  Incident   \n",
       "\u001b[1;36m4\u001b[0m  Dear \u001b[1m[\u001b[0mname\u001b[1m]\u001b[0m, we take the security of medical d\u001b[33m...\u001b[0m   Request   \n",
       "\n",
       "              queue priority language      tag_1      tag_2       tag_3  \\\n",
       "\u001b[1;36m0\u001b[0m   General Inquiry      low       de      Crash  Technical         Bug   \n",
       "\u001b[1;36m1\u001b[0m  Customer Service   medium       en   Feedback      Sales          IT   \n",
       "\u001b[1;36m2\u001b[0m  Customer Service   medium       en  Technical    Product    Guidance   \n",
       "\u001b[1;36m3\u001b[0m  Customer Service     high       de   Security     Breach       Login   \n",
       "\u001b[1;36m4\u001b[0m  Customer Service   medium       en   Security   Customer  Compliance   \n",
       "\n",
       "           tag_4          tag_5       tag_6          tag_7 tag_8  \n",
       "\u001b[1;36m0\u001b[0m       Hardware     Resolution      Outage  Documentation   NaN  \n",
       "\u001b[1;36m1\u001b[0m   Tech Support            NaN         NaN            NaN   NaN  \n",
       "\u001b[1;36m2\u001b[0m  Documentation    Performance     Feature            NaN   NaN  \n",
       "\u001b[1;36m3\u001b[0m    Maintenance       Incident  Resolution       Feedback   NaN  \n",
       "\u001b[1;36m4\u001b[0m         Breach  Documentation    Guidance            NaN   NaN  \n"
      ]
     },
     "metadata": {},
     "output_type": "display_data"
    },
    {
     "data": {
      "text/html": [
       "<pre style=\"white-space:pre;overflow-x:auto;line-height:normal;font-family:Menlo,'DejaVu Sans Mono',consolas,'Courier New',monospace\"><span style=\"color: #00ff00; text-decoration-color: #00ff00\">────────────────────────────────── </span><span style=\"color: #c0c0c0; text-decoration-color: #c0c0c0; font-weight: bold\">Data Info</span><span style=\"color: #00ff00; text-decoration-color: #00ff00\"> ───────────────────────────────────</span>\n",
       "</pre>\n"
      ],
      "text/plain": [
       "\u001b[92m────────────────────────────────── \u001b[0m\u001b[1;37mData Info\u001b[0m\u001b[92m ───────────────────────────────────\u001b[0m\n"
      ]
     },
     "metadata": {},
     "output_type": "display_data"
    },
    {
     "data": {
      "text/html": [
       "<pre style=\"white-space:pre;overflow-x:auto;line-height:normal;font-family:Menlo,'DejaVu Sans Mono',consolas,'Courier New',monospace\">data info:\n",
       "</pre>\n"
      ],
      "text/plain": [
       "data info:\n"
      ]
     },
     "metadata": {},
     "output_type": "display_data"
    },
    {
     "name": "stdout",
     "output_type": "stream",
     "text": [
      "<class 'pandas.core.frame.DataFrame'>\n",
      "RangeIndex: 20000 entries, 0 to 19999\n",
      "Data columns (total 15 columns):\n",
      " #   Column    Non-Null Count  Dtype \n",
      "---  ------    --------------  ----- \n",
      " 0   subject   18539 non-null  object\n",
      " 1   body      19998 non-null  object\n",
      " 2   answer    19996 non-null  object\n",
      " 3   type      20000 non-null  object\n",
      " 4   queue     20000 non-null  object\n",
      " 5   priority  20000 non-null  object\n",
      " 6   language  20000 non-null  object\n",
      " 7   tag_1     20000 non-null  object\n",
      " 8   tag_2     19954 non-null  object\n",
      " 9   tag_3     19905 non-null  object\n",
      " 10  tag_4     18461 non-null  object\n",
      " 11  tag_5     13091 non-null  object\n",
      " 12  tag_6     7351 non-null   object\n",
      " 13  tag_7     3928 non-null   object\n",
      " 14  tag_8     1907 non-null   object\n",
      "dtypes: object(15)\n",
      "memory usage: 2.3+ MB\n"
     ]
    },
    {
     "data": {
      "text/html": [
       "<pre style=\"white-space:pre;overflow-x:auto;line-height:normal;font-family:Menlo,'DejaVu Sans Mono',consolas,'Courier New',monospace\"><span style=\"color: #800080; text-decoration-color: #800080; font-style: italic\">None</span>\n",
       "</pre>\n"
      ],
      "text/plain": [
       "\u001b[3;35mNone\u001b[0m\n"
      ]
     },
     "metadata": {},
     "output_type": "display_data"
    },
    {
     "data": {
      "text/html": [
       "<pre style=\"white-space:pre;overflow-x:auto;line-height:normal;font-family:Menlo,'DejaVu Sans Mono',consolas,'Courier New',monospace\">Data numerik mencakup: <span style=\"font-weight: bold\">[]</span>\n",
       "</pre>\n"
      ],
      "text/plain": [
       "Data numerik mencakup: \u001b[1m[\u001b[0m\u001b[1m]\u001b[0m\n"
      ]
     },
     "metadata": {},
     "output_type": "display_data"
    },
    {
     "data": {
      "text/html": [
       "<pre style=\"white-space:pre;overflow-x:auto;line-height:normal;font-family:Menlo,'DejaVu Sans Mono',consolas,'Courier New',monospace\">Data kategorikal mencakup: <span style=\"font-weight: bold\">[</span><span style=\"color: #008000; text-decoration-color: #008000\">'subject'</span>, <span style=\"color: #008000; text-decoration-color: #008000\">'body'</span>, <span style=\"color: #008000; text-decoration-color: #008000\">'answer'</span>, <span style=\"color: #008000; text-decoration-color: #008000\">'type'</span>, <span style=\"color: #008000; text-decoration-color: #008000\">'queue'</span>, <span style=\"color: #008000; text-decoration-color: #008000\">'priority'</span>, <span style=\"color: #008000; text-decoration-color: #008000\">'language'</span>, <span style=\"color: #008000; text-decoration-color: #008000\">'tag_1'</span>, <span style=\"color: #008000; text-decoration-color: #008000\">'tag_2'</span>,\n",
       "<span style=\"color: #008000; text-decoration-color: #008000\">'tag_3'</span>, <span style=\"color: #008000; text-decoration-color: #008000\">'tag_4'</span>, <span style=\"color: #008000; text-decoration-color: #008000\">'tag_5'</span>, <span style=\"color: #008000; text-decoration-color: #008000\">'tag_6'</span>, <span style=\"color: #008000; text-decoration-color: #008000\">'tag_7'</span>, <span style=\"color: #008000; text-decoration-color: #008000\">'tag_8'</span><span style=\"font-weight: bold\">]</span>\n",
       "</pre>\n"
      ],
      "text/plain": [
       "Data kategorikal mencakup: \u001b[1m[\u001b[0m\u001b[32m'subject'\u001b[0m, \u001b[32m'body'\u001b[0m, \u001b[32m'answer'\u001b[0m, \u001b[32m'type'\u001b[0m, \u001b[32m'queue'\u001b[0m, \u001b[32m'priority'\u001b[0m, \u001b[32m'language'\u001b[0m, \u001b[32m'tag_1'\u001b[0m, \u001b[32m'tag_2'\u001b[0m,\n",
       "\u001b[32m'tag_3'\u001b[0m, \u001b[32m'tag_4'\u001b[0m, \u001b[32m'tag_5'\u001b[0m, \u001b[32m'tag_6'\u001b[0m, \u001b[32m'tag_7'\u001b[0m, \u001b[32m'tag_8'\u001b[0m\u001b[1m]\u001b[0m\n"
      ]
     },
     "metadata": {},
     "output_type": "display_data"
    },
    {
     "data": {
      "text/html": [
       "<pre style=\"white-space:pre;overflow-x:auto;line-height:normal;font-family:Menlo,'DejaVu Sans Mono',consolas,'Courier New',monospace\"><span style=\"color: #00ff00; text-decoration-color: #00ff00\">──────────────────────────────── </span><span style=\"color: #c0c0c0; text-decoration-color: #c0c0c0; font-weight: bold\">Null Handling</span><span style=\"color: #00ff00; text-decoration-color: #00ff00\"> ─────────────────────────────────</span>\n",
       "</pre>\n"
      ],
      "text/plain": [
       "\u001b[92m──────────────────────────────── \u001b[0m\u001b[1;37mNull Handling\u001b[0m\u001b[92m ─────────────────────────────────\u001b[0m\n"
      ]
     },
     "metadata": {},
     "output_type": "display_data"
    },
    {
     "data": {
      "text/html": [
       "<pre style=\"white-space:pre;overflow-x:auto;line-height:normal;font-family:Menlo,'DejaVu Sans Mono',consolas,'Courier New',monospace\">subject      <span style=\"color: #008080; text-decoration-color: #008080; font-weight: bold\">1461</span>\n",
       "body            <span style=\"color: #008080; text-decoration-color: #008080; font-weight: bold\">2</span>\n",
       "answer          <span style=\"color: #008080; text-decoration-color: #008080; font-weight: bold\">4</span>\n",
       "type            <span style=\"color: #008080; text-decoration-color: #008080; font-weight: bold\">0</span>\n",
       "queue           <span style=\"color: #008080; text-decoration-color: #008080; font-weight: bold\">0</span>\n",
       "priority        <span style=\"color: #008080; text-decoration-color: #008080; font-weight: bold\">0</span>\n",
       "language        <span style=\"color: #008080; text-decoration-color: #008080; font-weight: bold\">0</span>\n",
       "tag_1           <span style=\"color: #008080; text-decoration-color: #008080; font-weight: bold\">0</span>\n",
       "tag_2          <span style=\"color: #008080; text-decoration-color: #008080; font-weight: bold\">46</span>\n",
       "tag_3          <span style=\"color: #008080; text-decoration-color: #008080; font-weight: bold\">95</span>\n",
       "tag_4        <span style=\"color: #008080; text-decoration-color: #008080; font-weight: bold\">1539</span>\n",
       "tag_5        <span style=\"color: #008080; text-decoration-color: #008080; font-weight: bold\">6909</span>\n",
       "tag_6       <span style=\"color: #008080; text-decoration-color: #008080; font-weight: bold\">12649</span>\n",
       "tag_7       <span style=\"color: #008080; text-decoration-color: #008080; font-weight: bold\">16072</span>\n",
       "tag_8       <span style=\"color: #008080; text-decoration-color: #008080; font-weight: bold\">18093</span>\n",
       "dtype: int64\n",
       "</pre>\n"
      ],
      "text/plain": [
       "subject      \u001b[1;36m1461\u001b[0m\n",
       "body            \u001b[1;36m2\u001b[0m\n",
       "answer          \u001b[1;36m4\u001b[0m\n",
       "type            \u001b[1;36m0\u001b[0m\n",
       "queue           \u001b[1;36m0\u001b[0m\n",
       "priority        \u001b[1;36m0\u001b[0m\n",
       "language        \u001b[1;36m0\u001b[0m\n",
       "tag_1           \u001b[1;36m0\u001b[0m\n",
       "tag_2          \u001b[1;36m46\u001b[0m\n",
       "tag_3          \u001b[1;36m95\u001b[0m\n",
       "tag_4        \u001b[1;36m1539\u001b[0m\n",
       "tag_5        \u001b[1;36m6909\u001b[0m\n",
       "tag_6       \u001b[1;36m12649\u001b[0m\n",
       "tag_7       \u001b[1;36m16072\u001b[0m\n",
       "tag_8       \u001b[1;36m18093\u001b[0m\n",
       "dtype: int64\n"
      ]
     },
     "metadata": {},
     "output_type": "display_data"
    },
    {
     "data": {
      "text/html": [
       "<pre style=\"white-space:pre;overflow-x:auto;line-height:normal;font-family:Menlo,'DejaVu Sans Mono',consolas,'Courier New',monospace\"><span style=\"color: #00ff00; text-decoration-color: #00ff00\">────────────────────────── </span><span style=\"color: #c0c0c0; text-decoration-color: #c0c0c0; font-weight: bold\">Split Data Bahasa Inggris</span><span style=\"color: #00ff00; text-decoration-color: #00ff00\"> ───────────────────────────</span>\n",
       "</pre>\n"
      ],
      "text/plain": [
       "\u001b[92m────────────────────────── \u001b[0m\u001b[1;37mSplit Data Bahasa Inggris\u001b[0m\u001b[92m ───────────────────────────\u001b[0m\n"
      ]
     },
     "metadata": {},
     "output_type": "display_data"
    },
    {
     "data": {
      "text/html": [
       "<pre style=\"white-space:pre;overflow-x:auto;line-height:normal;font-family:Menlo,'DejaVu Sans Mono',consolas,'Courier New',monospace\"><span style=\"color: #008080; text-decoration-color: #008080; font-weight: bold\">1</span>    Seeking information on digital strategies that<span style=\"color: #808000; text-decoration-color: #808000\">...</span>\n",
       "<span style=\"color: #008080; text-decoration-color: #008080; font-weight: bold\">2</span>    I am contacting you to request information on <span style=\"color: #808000; text-decoration-color: #808000\">...</span>\n",
       "<span style=\"color: #008080; text-decoration-color: #008080; font-weight: bold\">4</span>    Dear Customer Support, I am reaching out to in<span style=\"color: #808000; text-decoration-color: #808000\">...</span>\n",
       "<span style=\"color: #008080; text-decoration-color: #008080; font-weight: bold\">5</span>    Inquiring about best practices for securing me<span style=\"color: #808000; text-decoration-color: #808000\">...</span>\n",
       "<span style=\"color: #008080; text-decoration-color: #008080; font-weight: bold\">7</span>    The integration stopped working unexpectedly, <span style=\"color: #808000; text-decoration-color: #808000\">...</span>\n",
       "Name: body, dtype: object\n",
       "</pre>\n"
      ],
      "text/plain": [
       "\u001b[1;36m1\u001b[0m    Seeking information on digital strategies that\u001b[33m...\u001b[0m\n",
       "\u001b[1;36m2\u001b[0m    I am contacting you to request information on \u001b[33m...\u001b[0m\n",
       "\u001b[1;36m4\u001b[0m    Dear Customer Support, I am reaching out to in\u001b[33m...\u001b[0m\n",
       "\u001b[1;36m5\u001b[0m    Inquiring about best practices for securing me\u001b[33m...\u001b[0m\n",
       "\u001b[1;36m7\u001b[0m    The integration stopped working unexpectedly, \u001b[33m...\u001b[0m\n",
       "Name: body, dtype: object\n"
      ]
     },
     "metadata": {},
     "output_type": "display_data"
    },
    {
     "data": {
      "text/html": [
       "<pre style=\"white-space:pre;overflow-x:auto;line-height:normal;font-family:Menlo,'DejaVu Sans Mono',consolas,'Courier New',monospace\"><span style=\"color: #008080; text-decoration-color: #008080; font-weight: bold\">11922</span>\n",
       "</pre>\n"
      ],
      "text/plain": [
       "\u001b[1;36m11922\u001b[0m\n"
      ]
     },
     "metadata": {},
     "output_type": "display_data"
    },
    {
     "data": {
      "text/html": [
       "<pre style=\"white-space:pre;overflow-x:auto;line-height:normal;font-family:Menlo,'DejaVu Sans Mono',consolas,'Courier New',monospace\"><span style=\"color: #00ff00; text-decoration-color: #00ff00\">────────────────────────── </span><span style=\"color: #c0c0c0; text-decoration-color: #c0c0c0; font-weight: bold\">Split Data Bahasa Belanda</span><span style=\"color: #00ff00; text-decoration-color: #00ff00\"> ───────────────────────────</span>\n",
       "</pre>\n"
      ],
      "text/plain": [
       "\u001b[92m────────────────────────── \u001b[0m\u001b[1;37mSplit Data Bahasa Belanda\u001b[0m\u001b[92m ───────────────────────────\u001b[0m\n"
      ]
     },
     "metadata": {},
     "output_type": "display_data"
    },
    {
     "data": {
      "text/html": [
       "<pre style=\"white-space:pre;overflow-x:auto;line-height:normal;font-family:Menlo,'DejaVu Sans Mono',consolas,'Courier New',monospace\"><span style=\"color: #008080; text-decoration-color: #008080; font-weight: bold\">0</span>    Die Datenanalyse-Plattform brach unerwartet ab<span style=\"color: #808000; text-decoration-color: #808000\">...</span>\n",
       "<span style=\"color: #008080; text-decoration-color: #008080; font-weight: bold\">3</span>    Ein Medien-Daten-Sperrverhalten trat aufgrund <span style=\"color: #808000; text-decoration-color: #808000\">...</span>\n",
       "<span style=\"color: #008080; text-decoration-color: #008080; font-weight: bold\">6</span>    Ratung, ob es möglich ist, Sicherung medizinis<span style=\"color: #808000; text-decoration-color: #808000\">...</span>\n",
       "<span style=\"color: #008080; text-decoration-color: #008080; font-weight: bold\">8</span>    Dear Customer Support, I am writing in regards<span style=\"color: #808000; text-decoration-color: #808000\">...</span>\n",
       "<span style=\"color: #008080; text-decoration-color: #008080; font-weight: bold\">9</span>    The latest data analysis reports are inconsist<span style=\"color: #808000; text-decoration-color: #808000\">...</span>\n",
       "Name: body, dtype: object\n",
       "</pre>\n"
      ],
      "text/plain": [
       "\u001b[1;36m0\u001b[0m    Die Datenanalyse-Plattform brach unerwartet ab\u001b[33m...\u001b[0m\n",
       "\u001b[1;36m3\u001b[0m    Ein Medien-Daten-Sperrverhalten trat aufgrund \u001b[33m...\u001b[0m\n",
       "\u001b[1;36m6\u001b[0m    Ratung, ob es möglich ist, Sicherung medizinis\u001b[33m...\u001b[0m\n",
       "\u001b[1;36m8\u001b[0m    Dear Customer Support, I am writing in regards\u001b[33m...\u001b[0m\n",
       "\u001b[1;36m9\u001b[0m    The latest data analysis reports are inconsist\u001b[33m...\u001b[0m\n",
       "Name: body, dtype: object\n"
      ]
     },
     "metadata": {},
     "output_type": "display_data"
    },
    {
     "data": {
      "text/html": [
       "<pre style=\"white-space:pre;overflow-x:auto;line-height:normal;font-family:Menlo,'DejaVu Sans Mono',consolas,'Courier New',monospace\"><span style=\"color: #008080; text-decoration-color: #008080; font-weight: bold\">8076</span>\n",
       "</pre>\n"
      ],
      "text/plain": [
       "\u001b[1;36m8076\u001b[0m\n"
      ]
     },
     "metadata": {},
     "output_type": "display_data"
    }
   ],
   "source": [
    "data = pd.read_csv(\"multilang-ticket.csv\")\n",
    "tiket_df = pd.DataFrame(data)\n",
    "console = Console(width=terminal_width)\n",
    "console.rule(\"[bold white]Data Information & Representation\")\n",
    "print(tiket_df.head())\n",
    "console.rule(\"[bold white]Data Info\")\n",
    "print(\"data info:\")\n",
    "print(tiket_df.info(5))\n",
    "numeric_columns = tiket_df.select_dtypes(include=[np.number]).columns\n",
    "categorical_columns = tiket_df.select_dtypes(include=[\"string\", \"object\"]).columns\n",
    "print(f\"Data numerik mencakup: {numeric_columns.to_list()}\")\n",
    "print(f\"Data kategorikal mencakup: {categorical_columns.to_list()}\")\n",
    "\n",
    "console.rule(\"[bold white]Null Handling\")\n",
    "print(tiket_df.isnull().sum())\n",
    "\n",
    "console.rule(\"[bold white]Split Data Bahasa Inggris\")\n",
    "en_df = tiket_df[tiket_df[\"language\"] == \"en\"]\n",
    "ed_df = pd.DataFrame(en_df)\n",
    "print(en_df[\"body\"].head(5))\n",
    "print(en_df[\"body\"].count())\n",
    "console.rule(\"[bold white]Split Data Bahasa Belanda\")\n",
    "de_df = tiket_df[tiket_df[\"language\"] == \"de\"]\n",
    "print(de_df[\"body\"].head(5))\n",
    "print(de_df[\"body\"].count())"
   ]
  },
  {
   "cell_type": "code",
   "execution_count": null,
   "id": "4218e355",
   "metadata": {},
   "outputs": [
    {
     "name": "stderr",
     "output_type": "stream",
     "text": [
      "Xet Storage is enabled for this repo, but the 'hf_xet' package is not installed. Falling back to regular HTTP download. For better performance, install the package with: `pip install huggingface_hub[hf_xet]` or `pip install hf_xet`\n"
     ]
    },
    {
     "name": "stderr",
     "output_type": "stream",
     "text": [
      "Xet Storage is enabled for this repo, but the 'hf_xet' package is not installed. Falling back to regular HTTP download. For better performance, install the package with: `pip install huggingface_hub[hf_xet]` or `pip install hf_xet`\n"
     ]
    }
   ],
   "source": [
    "model_name = \"Helsinki-NLP/opus-mt-de-en\"\n",
    "tokenizer = MarianTokenizer.from_pretrained(model_name)\n",
    "model = MarianMTModel.from_pretrained(model_name)"
   ]
  },
  {
   "cell_type": "code",
   "execution_count": null,
   "id": "3c5eedb5",
   "metadata": {},
   "outputs": [
    {
     "data": {
      "text/html": [
       "<pre style=\"white-space:pre;overflow-x:auto;line-height:normal;font-family:Menlo,'DejaVu Sans Mono',consolas,'Courier New',monospace\">                                                 body\n",
       "<span style=\"color: #008080; text-decoration-color: #008080; font-weight: bold\">0</span>   Die Datenanalyse-Plattform brach unerwartet ab<span style=\"color: #808000; text-decoration-color: #808000\">...</span>\n",
       "<span style=\"color: #008080; text-decoration-color: #008080; font-weight: bold\">3</span>   Ein Medien-Daten-Sperrverhalten trat aufgrund <span style=\"color: #808000; text-decoration-color: #808000\">...</span>\n",
       "<span style=\"color: #008080; text-decoration-color: #008080; font-weight: bold\">6</span>   Ratung, ob es möglich ist, Sicherung medizinis<span style=\"color: #808000; text-decoration-color: #808000\">...</span>\n",
       "<span style=\"color: #008080; text-decoration-color: #008080; font-weight: bold\">8</span>   Dear Customer Support, I am writing in regards<span style=\"color: #808000; text-decoration-color: #808000\">...</span>\n",
       "<span style=\"color: #008080; text-decoration-color: #008080; font-weight: bold\">9</span>   The latest data analysis reports are inconsist<span style=\"color: #808000; text-decoration-color: #808000\">...</span>\n",
       "<span style=\"color: #008080; text-decoration-color: #008080; font-weight: bold\">20</span>  Sehr geehrte Kundensupport, wir begegnen momen<span style=\"color: #808000; text-decoration-color: #808000\">...</span>\n",
       "<span style=\"color: #008080; text-decoration-color: #008080; font-weight: bold\">25</span>  Unverschlüsselte medizinische Daten auf ungesc<span style=\"color: #808000; text-decoration-color: #808000\">...</span>\n",
       "</pre>\n"
      ],
      "text/plain": [
       "                                                 body\n",
       "\u001b[1;36m0\u001b[0m   Die Datenanalyse-Plattform brach unerwartet ab\u001b[33m...\u001b[0m\n",
       "\u001b[1;36m3\u001b[0m   Ein Medien-Daten-Sperrverhalten trat aufgrund \u001b[33m...\u001b[0m\n",
       "\u001b[1;36m6\u001b[0m   Ratung, ob es möglich ist, Sicherung medizinis\u001b[33m...\u001b[0m\n",
       "\u001b[1;36m8\u001b[0m   Dear Customer Support, I am writing in regards\u001b[33m...\u001b[0m\n",
       "\u001b[1;36m9\u001b[0m   The latest data analysis reports are inconsist\u001b[33m...\u001b[0m\n",
       "\u001b[1;36m20\u001b[0m  Sehr geehrte Kundensupport, wir begegnen momen\u001b[33m...\u001b[0m\n",
       "\u001b[1;36m25\u001b[0m  Unverschlüsselte medizinische Daten auf ungesc\u001b[33m...\u001b[0m\n"
      ]
     },
     "metadata": {},
     "output_type": "display_data"
    },
    {
     "data": {
      "text/html": [
       "<pre style=\"white-space:pre;overflow-x:auto;line-height:normal;font-family:Menlo,'DejaVu Sans Mono',consolas,'Courier New',monospace\">not translated <span style=\"color: #008080; text-decoration-color: #008080; font-weight: bold\">0</span>     Die Datenanalyse-Plattform brach unerwartet ab<span style=\"color: #808000; text-decoration-color: #808000\">...</span>\n",
       "<span style=\"color: #008080; text-decoration-color: #008080; font-weight: bold\">3</span>     Ein Medien-Daten-Sperrverhalten trat aufgrund <span style=\"color: #808000; text-decoration-color: #808000\">...</span>\n",
       "<span style=\"color: #008080; text-decoration-color: #008080; font-weight: bold\">6</span>     Ratung, ob es möglich ist, Sicherung medizinis<span style=\"color: #808000; text-decoration-color: #808000\">...</span>\n",
       "<span style=\"color: #008080; text-decoration-color: #008080; font-weight: bold\">8</span>     Dear Customer Support, I am writing in regards<span style=\"color: #808000; text-decoration-color: #808000\">...</span>\n",
       "<span style=\"color: #008080; text-decoration-color: #008080; font-weight: bold\">9</span>     The latest data analysis reports are inconsist<span style=\"color: #808000; text-decoration-color: #808000\">...</span>\n",
       "<span style=\"color: #008080; text-decoration-color: #008080; font-weight: bold\">20</span>    Sehr geehrte Kundensupport, wir begegnen momen<span style=\"color: #808000; text-decoration-color: #808000\">...</span>\n",
       "<span style=\"color: #008080; text-decoration-color: #008080; font-weight: bold\">25</span>    Unverschlüsselte medizinische Daten auf ungesc<span style=\"color: #808000; text-decoration-color: #808000\">...</span>\n",
       "Name: body, dtype: object\n",
       "</pre>\n"
      ],
      "text/plain": [
       "not translated \u001b[1;36m0\u001b[0m     Die Datenanalyse-Plattform brach unerwartet ab\u001b[33m...\u001b[0m\n",
       "\u001b[1;36m3\u001b[0m     Ein Medien-Daten-Sperrverhalten trat aufgrund \u001b[33m...\u001b[0m\n",
       "\u001b[1;36m6\u001b[0m     Ratung, ob es möglich ist, Sicherung medizinis\u001b[33m...\u001b[0m\n",
       "\u001b[1;36m8\u001b[0m     Dear Customer Support, I am writing in regards\u001b[33m...\u001b[0m\n",
       "\u001b[1;36m9\u001b[0m     The latest data analysis reports are inconsist\u001b[33m...\u001b[0m\n",
       "\u001b[1;36m20\u001b[0m    Sehr geehrte Kundensupport, wir begegnen momen\u001b[33m...\u001b[0m\n",
       "\u001b[1;36m25\u001b[0m    Unverschlüsselte medizinische Daten auf ungesc\u001b[33m...\u001b[0m\n",
       "Name: body, dtype: object\n"
      ]
     },
     "metadata": {},
     "output_type": "display_data"
    },
    {
     "data": {
      "text/html": [
       "<pre style=\"white-space:pre;overflow-x:auto;line-height:normal;font-family:Menlo,'DejaVu Sans Mono',consolas,'Courier New',monospace\"><span style=\"color: #008080; text-decoration-color: #008080; font-weight: bold\">0</span>     NaN\n",
       "<span style=\"color: #008080; text-decoration-color: #008080; font-weight: bold\">3</span>     NaN\n",
       "<span style=\"color: #008080; text-decoration-color: #008080; font-weight: bold\">6</span>     NaN\n",
       "<span style=\"color: #008080; text-decoration-color: #008080; font-weight: bold\">8</span>     NaN\n",
       "<span style=\"color: #008080; text-decoration-color: #008080; font-weight: bold\">9</span>     NaN\n",
       "<span style=\"color: #008080; text-decoration-color: #008080; font-weight: bold\">20</span>    NaN\n",
       "<span style=\"color: #008080; text-decoration-color: #008080; font-weight: bold\">25</span>    NaN\n",
       "Name: body_en, dtype: object\n",
       "</pre>\n"
      ],
      "text/plain": [
       "\u001b[1;36m0\u001b[0m     NaN\n",
       "\u001b[1;36m3\u001b[0m     NaN\n",
       "\u001b[1;36m6\u001b[0m     NaN\n",
       "\u001b[1;36m8\u001b[0m     NaN\n",
       "\u001b[1;36m9\u001b[0m     NaN\n",
       "\u001b[1;36m20\u001b[0m    NaN\n",
       "\u001b[1;36m25\u001b[0m    NaN\n",
       "Name: body_en, dtype: object\n"
      ]
     },
     "metadata": {},
     "output_type": "display_data"
    }
   ],
   "source": [
    "de_df = pd.DataFrame(de_df[\"body\"].head(7))\n",
    "print(de_df)\n",
    "\n",
    "\n",
    "def translate_german_to_english(text):\n",
    "    if not isinstance(text, str):\n",
    "        return print(f\"not translated {text}\")\n",
    "    tokenized_text = tokenizer(text, return_tensors=\"pt\")\n",
    "    translated = model.generate(**tokenized_text)\n",
    "    english_text = tokenizer.batch_decode(translated, skip_special_tokens=True)[0]\n",
    "\n",
    "    return english_text\n",
    "\n",
    "\n",
    "de_df[\"body_en\"] = de_df.apply(translate_german_to_english)\n",
    "print(de_df[\"body_en\"])"
   ]
  }
 ],
 "metadata": {
  "kernelspec": {
   "display_name": "Python 3",
   "language": "python",
   "name": "python3"
  },
  "language_info": {
   "codemirror_mode": {
    "name": "ipython",
    "version": 3
   },
   "file_extension": ".py",
   "mimetype": "text/x-python",
   "name": "python",
   "nbconvert_exporter": "python",
   "pygments_lexer": "ipython3",
   "version": "3.13.2"
  }
 },
 "nbformat": 4,
 "nbformat_minor": 5
}
