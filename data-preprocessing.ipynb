{
 "cells": [
  {
   "cell_type": "markdown",
   "id": "bb922b95",
   "metadata": {},
   "source": [
    "# **Library & Depedencies**\n"
   ]
  },
  {
   "cell_type": "code",
   "execution_count": 1,
   "id": "b645b2d6",
   "metadata": {},
   "outputs": [
    {
     "name": "stderr",
     "output_type": "stream",
     "text": [
      "c:\\Users\\prith\\AppData\\Local\\Programs\\Python\\Python313\\Lib\\site-packages\\tqdm\\auto.py:21: TqdmWarning: IProgress not found. Please update jupyter and ipywidgets. See https://ipywidgets.readthedocs.io/en/stable/user_install.html\n",
      "  from .autonotebook import tqdm as notebook_tqdm\n"
     ]
    }
   ],
   "source": [
    "from transformers import BertTokenizer, BertForSequenceClassification\n",
    "from transformers import MarianMTModel, MarianTokenizer\n",
    "import nltk\n",
    "from nltk.corpus import stopwords\n",
    "from nltk.tokenize import word_tokenize\n",
    "import string\n",
    "import pandas as pd\n",
    "import scipy.stats as stats\n",
    "import numpy as np\n",
    "import matplotlib.pyplot as plt\n",
    "import seaborn as sns\n",
    "import re\n",
    "from rich import print\n",
    "from rich.table import Table\n",
    "from rich.console import Console\n",
    "import shutil\n",
    "import torch\n",
    "import sacremoses\n",
    "import sentencepiece\n",
    "from tqdm.auto import tqdm\n",
    "from sklearn.metrics import classification_report\n",
    "from sklearn.utils import class_weight\n",
    "from sklearn.model_selection import train_test_split\n",
    "import numpy as np"
   ]
  },
  {
   "cell_type": "markdown",
   "id": "c795e4e1",
   "metadata": {},
   "source": [
    "# **Preprocessing**\n",
    "\n",
    "<li>Stop Words Removal</li>\n",
    "<li>Case Folding</li>\n"
   ]
  },
  {
   "cell_type": "code",
   "execution_count": 2,
   "id": "a78e359e",
   "metadata": {},
   "outputs": [
    {
     "data": {
      "text/html": [
       "<div>\n",
       "<style scoped>\n",
       "    .dataframe tbody tr th:only-of-type {\n",
       "        vertical-align: middle;\n",
       "    }\n",
       "\n",
       "    .dataframe tbody tr th {\n",
       "        vertical-align: top;\n",
       "    }\n",
       "\n",
       "    .dataframe thead th {\n",
       "        text-align: right;\n",
       "    }\n",
       "</style>\n",
       "<table border=\"1\" class=\"dataframe\">\n",
       "  <thead>\n",
       "    <tr style=\"text-align: right;\">\n",
       "      <th></th>\n",
       "      <th>subject</th>\n",
       "      <th>body</th>\n",
       "      <th>answer</th>\n",
       "      <th>type</th>\n",
       "      <th>queue</th>\n",
       "      <th>priority</th>\n",
       "      <th>language</th>\n",
       "      <th>tag_1</th>\n",
       "      <th>tag_2</th>\n",
       "      <th>tag_3</th>\n",
       "      <th>tag_4</th>\n",
       "      <th>tag_5</th>\n",
       "      <th>tag_6</th>\n",
       "      <th>tag_7</th>\n",
       "      <th>tag_8</th>\n",
       "      <th>translated_body</th>\n",
       "      <th>cleaned_text</th>\n",
       "    </tr>\n",
       "  </thead>\n",
       "  <tbody>\n",
       "    <tr>\n",
       "      <th>0</th>\n",
       "      <td>Unvorhergesehener Absturz der Datenanalyse-Pla...</td>\n",
       "      <td>Die Datenanalyse-Plattform brach unerwartet ab...</td>\n",
       "      <td>Ich werde Ihnen bei der Lösung des Problems he...</td>\n",
       "      <td>Incident</td>\n",
       "      <td>General Inquiry</td>\n",
       "      <td>low</td>\n",
       "      <td>de</td>\n",
       "      <td>Crash</td>\n",
       "      <td>Technical</td>\n",
       "      <td>Bug</td>\n",
       "      <td>Hardware</td>\n",
       "      <td>Resolution</td>\n",
       "      <td>Outage</td>\n",
       "      <td>Documentation</td>\n",
       "      <td>NaN</td>\n",
       "      <td>The data analysis platform unexpectedly broke ...</td>\n",
       "      <td>data analysis platform unexpectedly broke memo...</td>\n",
       "    </tr>\n",
       "    <tr>\n",
       "      <th>1</th>\n",
       "      <td>Customer Support Inquiry</td>\n",
       "      <td>Seeking information on digital strategies that...</td>\n",
       "      <td>We offer a variety of digital strategies and s...</td>\n",
       "      <td>Request</td>\n",
       "      <td>Customer Service</td>\n",
       "      <td>medium</td>\n",
       "      <td>en</td>\n",
       "      <td>Feedback</td>\n",
       "      <td>Sales</td>\n",
       "      <td>IT</td>\n",
       "      <td>Tech Support</td>\n",
       "      <td>NaN</td>\n",
       "      <td>NaN</td>\n",
       "      <td>NaN</td>\n",
       "      <td>NaN</td>\n",
       "      <td>Seeking information on digital strategies that...</td>\n",
       "      <td>seeking information digital strategies aid bra...</td>\n",
       "    </tr>\n",
       "    <tr>\n",
       "      <th>2</th>\n",
       "      <td>Data Analytics for Investment</td>\n",
       "      <td>I am contacting you to request information on ...</td>\n",
       "      <td>I am here to assist you with data analytics to...</td>\n",
       "      <td>Request</td>\n",
       "      <td>Customer Service</td>\n",
       "      <td>medium</td>\n",
       "      <td>en</td>\n",
       "      <td>Technical</td>\n",
       "      <td>Product</td>\n",
       "      <td>Guidance</td>\n",
       "      <td>Documentation</td>\n",
       "      <td>Performance</td>\n",
       "      <td>Feature</td>\n",
       "      <td>NaN</td>\n",
       "      <td>NaN</td>\n",
       "      <td>I am contacting you to request information on ...</td>\n",
       "      <td>contacting request information data analytics ...</td>\n",
       "    </tr>\n",
       "    <tr>\n",
       "      <th>3</th>\n",
       "      <td>Krankenhaus-Dienstleistung-Problem</td>\n",
       "      <td>Ein Medien-Daten-Sperrverhalten trat aufgrund ...</td>\n",
       "      <td>Zurück zur E-Mail-Beschwerde über den Sperrver...</td>\n",
       "      <td>Incident</td>\n",
       "      <td>Customer Service</td>\n",
       "      <td>high</td>\n",
       "      <td>de</td>\n",
       "      <td>Security</td>\n",
       "      <td>Breach</td>\n",
       "      <td>Login</td>\n",
       "      <td>Maintenance</td>\n",
       "      <td>Incident</td>\n",
       "      <td>Resolution</td>\n",
       "      <td>Feedback</td>\n",
       "      <td>NaN</td>\n",
       "      <td>A media data blocking behavior occurred due to...</td>\n",
       "      <td>media data blocking behavior occurred due unau...</td>\n",
       "    </tr>\n",
       "    <tr>\n",
       "      <th>4</th>\n",
       "      <td>Security</td>\n",
       "      <td>Dear Customer Support, I am reaching out to in...</td>\n",
       "      <td>Dear [name], we take the security of medical d...</td>\n",
       "      <td>Request</td>\n",
       "      <td>Customer Service</td>\n",
       "      <td>medium</td>\n",
       "      <td>en</td>\n",
       "      <td>Security</td>\n",
       "      <td>Customer</td>\n",
       "      <td>Compliance</td>\n",
       "      <td>Breach</td>\n",
       "      <td>Documentation</td>\n",
       "      <td>Guidance</td>\n",
       "      <td>NaN</td>\n",
       "      <td>NaN</td>\n",
       "      <td>Dear Customer Support, I am reaching out to in...</td>\n",
       "      <td>dear customer support reaching inquire securit...</td>\n",
       "    </tr>\n",
       "    <tr>\n",
       "      <th>...</th>\n",
       "      <td>...</td>\n",
       "      <td>...</td>\n",
       "      <td>...</td>\n",
       "      <td>...</td>\n",
       "      <td>...</td>\n",
       "      <td>...</td>\n",
       "      <td>...</td>\n",
       "      <td>...</td>\n",
       "      <td>...</td>\n",
       "      <td>...</td>\n",
       "      <td>...</td>\n",
       "      <td>...</td>\n",
       "      <td>...</td>\n",
       "      <td>...</td>\n",
       "      <td>...</td>\n",
       "      <td>...</td>\n",
       "      <td>...</td>\n",
       "    </tr>\n",
       "    <tr>\n",
       "      <th>19995</th>\n",
       "      <td>Assistance Needed for IFTTT Docker Integration</td>\n",
       "      <td>I am facing integration problems with IFTTT Do...</td>\n",
       "      <td>I would be happy to assist with the IFTTT Dock...</td>\n",
       "      <td>Problem</td>\n",
       "      <td>Technical Support</td>\n",
       "      <td>low</td>\n",
       "      <td>en</td>\n",
       "      <td>Integration</td>\n",
       "      <td>Disruption</td>\n",
       "      <td>Performance</td>\n",
       "      <td>IT</td>\n",
       "      <td>Tech Support</td>\n",
       "      <td>NaN</td>\n",
       "      <td>NaN</td>\n",
       "      <td>NaN</td>\n",
       "      <td>I am facing integration problems with IFTTT Do...</td>\n",
       "      <td>facing integration problems ifttt docker causi...</td>\n",
       "    </tr>\n",
       "    <tr>\n",
       "      <th>19996</th>\n",
       "      <td>Bitten um Unterstützung bei der Integration</td>\n",
       "      <td>Sehr geehrte Kundenservice, ich möchte die Int...</td>\n",
       "      <td>Sehr geehrte [Name], vielen Dank für Ihren Kon...</td>\n",
       "      <td>Change</td>\n",
       "      <td>Technical Support</td>\n",
       "      <td>medium</td>\n",
       "      <td>de</td>\n",
       "      <td>Integration</td>\n",
       "      <td>Feature</td>\n",
       "      <td>Documentation</td>\n",
       "      <td>Tech Support</td>\n",
       "      <td>NaN</td>\n",
       "      <td>NaN</td>\n",
       "      <td>NaN</td>\n",
       "      <td>NaN</td>\n",
       "      <td>Dear Customer Service, I would like to request...</td>\n",
       "      <td>dear customer service would like request integ...</td>\n",
       "    </tr>\n",
       "    <tr>\n",
       "      <th>19997</th>\n",
       "      <td>NaN</td>\n",
       "      <td>Hello Customer Support, I am inquiring about t...</td>\n",
       "      <td>We will send you detailed information on plans...</td>\n",
       "      <td>Request</td>\n",
       "      <td>Billing and Payments</td>\n",
       "      <td>low</td>\n",
       "      <td>en</td>\n",
       "      <td>Billing</td>\n",
       "      <td>Payment</td>\n",
       "      <td>Feature</td>\n",
       "      <td>Feedback</td>\n",
       "      <td>Sales</td>\n",
       "      <td>Lead</td>\n",
       "      <td>NaN</td>\n",
       "      <td>NaN</td>\n",
       "      <td>Hello Customer Support, I am inquiring about t...</td>\n",
       "      <td>hello customer support inquiring billing optio...</td>\n",
       "    </tr>\n",
       "    <tr>\n",
       "      <th>19998</th>\n",
       "      <td>Hilfe bei digitalen Strategie-Problemen</td>\n",
       "      <td>Die Qualität unserer digitalen Strategie-Bearb...</td>\n",
       "      <td>Um den digitalen Strategie-Impuls zu überprüfe...</td>\n",
       "      <td>Incident</td>\n",
       "      <td>Product Support</td>\n",
       "      <td>high</td>\n",
       "      <td>de</td>\n",
       "      <td>Feedback</td>\n",
       "      <td>Performance</td>\n",
       "      <td>IT</td>\n",
       "      <td>Tech Support</td>\n",
       "      <td>NaN</td>\n",
       "      <td>NaN</td>\n",
       "      <td>NaN</td>\n",
       "      <td>NaN</td>\n",
       "      <td>The quality of our digital strategy editing ha...</td>\n",
       "      <td>quality digital strategy editing developed neg...</td>\n",
       "    </tr>\n",
       "    <tr>\n",
       "      <th>19999</th>\n",
       "      <td>Optimierung Ihrer Datenanalyse-Plattform erlei...</td>\n",
       "      <td>Sehr geehrte Customer Support-Team, ich schrei...</td>\n",
       "      <td>Sehr geehrter &lt;name&gt;, wir antworten Ihnen auf ...</td>\n",
       "      <td>Change</td>\n",
       "      <td>Sales and Pre-Sales</td>\n",
       "      <td>medium</td>\n",
       "      <td>de</td>\n",
       "      <td>Product</td>\n",
       "      <td>Feature</td>\n",
       "      <td>Performance</td>\n",
       "      <td>Guidance</td>\n",
       "      <td>Documentation</td>\n",
       "      <td>NaN</td>\n",
       "      <td>NaN</td>\n",
       "      <td>NaN</td>\n",
       "      <td>Dear Customer Support Team, I'm writing to you...</td>\n",
       "      <td>dear customer support team 'm writing explore ...</td>\n",
       "    </tr>\n",
       "  </tbody>\n",
       "</table>\n",
       "<p>20000 rows × 17 columns</p>\n",
       "</div>"
      ],
      "text/plain": [
       "                                                 subject  \\\n",
       "0      Unvorhergesehener Absturz der Datenanalyse-Pla...   \n",
       "1                               Customer Support Inquiry   \n",
       "2                          Data Analytics for Investment   \n",
       "3                     Krankenhaus-Dienstleistung-Problem   \n",
       "4                                               Security   \n",
       "...                                                  ...   \n",
       "19995     Assistance Needed for IFTTT Docker Integration   \n",
       "19996        Bitten um Unterstützung bei der Integration   \n",
       "19997                                                NaN   \n",
       "19998            Hilfe bei digitalen Strategie-Problemen   \n",
       "19999  Optimierung Ihrer Datenanalyse-Plattform erlei...   \n",
       "\n",
       "                                                    body  \\\n",
       "0      Die Datenanalyse-Plattform brach unerwartet ab...   \n",
       "1      Seeking information on digital strategies that...   \n",
       "2      I am contacting you to request information on ...   \n",
       "3      Ein Medien-Daten-Sperrverhalten trat aufgrund ...   \n",
       "4      Dear Customer Support, I am reaching out to in...   \n",
       "...                                                  ...   \n",
       "19995  I am facing integration problems with IFTTT Do...   \n",
       "19996  Sehr geehrte Kundenservice, ich möchte die Int...   \n",
       "19997  Hello Customer Support, I am inquiring about t...   \n",
       "19998  Die Qualität unserer digitalen Strategie-Bearb...   \n",
       "19999  Sehr geehrte Customer Support-Team, ich schrei...   \n",
       "\n",
       "                                                  answer      type  \\\n",
       "0      Ich werde Ihnen bei der Lösung des Problems he...  Incident   \n",
       "1      We offer a variety of digital strategies and s...   Request   \n",
       "2      I am here to assist you with data analytics to...   Request   \n",
       "3      Zurück zur E-Mail-Beschwerde über den Sperrver...  Incident   \n",
       "4      Dear [name], we take the security of medical d...   Request   \n",
       "...                                                  ...       ...   \n",
       "19995  I would be happy to assist with the IFTTT Dock...   Problem   \n",
       "19996  Sehr geehrte [Name], vielen Dank für Ihren Kon...    Change   \n",
       "19997  We will send you detailed information on plans...   Request   \n",
       "19998  Um den digitalen Strategie-Impuls zu überprüfe...  Incident   \n",
       "19999  Sehr geehrter <name>, wir antworten Ihnen auf ...    Change   \n",
       "\n",
       "                      queue priority language        tag_1        tag_2  \\\n",
       "0           General Inquiry      low       de        Crash    Technical   \n",
       "1          Customer Service   medium       en     Feedback        Sales   \n",
       "2          Customer Service   medium       en    Technical      Product   \n",
       "3          Customer Service     high       de     Security       Breach   \n",
       "4          Customer Service   medium       en     Security     Customer   \n",
       "...                     ...      ...      ...          ...          ...   \n",
       "19995     Technical Support      low       en  Integration   Disruption   \n",
       "19996     Technical Support   medium       de  Integration      Feature   \n",
       "19997  Billing and Payments      low       en      Billing      Payment   \n",
       "19998       Product Support     high       de     Feedback  Performance   \n",
       "19999   Sales and Pre-Sales   medium       de      Product      Feature   \n",
       "\n",
       "               tag_3          tag_4          tag_5       tag_6          tag_7  \\\n",
       "0                Bug       Hardware     Resolution      Outage  Documentation   \n",
       "1                 IT   Tech Support            NaN         NaN            NaN   \n",
       "2           Guidance  Documentation    Performance     Feature            NaN   \n",
       "3              Login    Maintenance       Incident  Resolution       Feedback   \n",
       "4         Compliance         Breach  Documentation    Guidance            NaN   \n",
       "...              ...            ...            ...         ...            ...   \n",
       "19995    Performance             IT   Tech Support         NaN            NaN   \n",
       "19996  Documentation   Tech Support            NaN         NaN            NaN   \n",
       "19997        Feature       Feedback          Sales        Lead            NaN   \n",
       "19998             IT   Tech Support            NaN         NaN            NaN   \n",
       "19999    Performance       Guidance  Documentation         NaN            NaN   \n",
       "\n",
       "      tag_8                                    translated_body  \\\n",
       "0       NaN  The data analysis platform unexpectedly broke ...   \n",
       "1       NaN  Seeking information on digital strategies that...   \n",
       "2       NaN  I am contacting you to request information on ...   \n",
       "3       NaN  A media data blocking behavior occurred due to...   \n",
       "4       NaN  Dear Customer Support, I am reaching out to in...   \n",
       "...     ...                                                ...   \n",
       "19995   NaN  I am facing integration problems with IFTTT Do...   \n",
       "19996   NaN  Dear Customer Service, I would like to request...   \n",
       "19997   NaN  Hello Customer Support, I am inquiring about t...   \n",
       "19998   NaN  The quality of our digital strategy editing ha...   \n",
       "19999   NaN  Dear Customer Support Team, I'm writing to you...   \n",
       "\n",
       "                                            cleaned_text  \n",
       "0      data analysis platform unexpectedly broke memo...  \n",
       "1      seeking information digital strategies aid bra...  \n",
       "2      contacting request information data analytics ...  \n",
       "3      media data blocking behavior occurred due unau...  \n",
       "4      dear customer support reaching inquire securit...  \n",
       "...                                                  ...  \n",
       "19995  facing integration problems ifttt docker causi...  \n",
       "19996  dear customer service would like request integ...  \n",
       "19997  hello customer support inquiring billing optio...  \n",
       "19998  quality digital strategy editing developed neg...  \n",
       "19999  dear customer support team 'm writing explore ...  \n",
       "\n",
       "[20000 rows x 17 columns]"
      ]
     },
     "metadata": {},
     "output_type": "display_data"
    }
   ],
   "source": [
    "df = pd.read_csv(\"translated_data.csv\")\n",
    "tiket_df = pd.DataFrame(df)\n",
    "tqdm.pandas()\n",
    "stop_words = set(stopwords.words(\"english\"))\n",
    "punctuation = set(string.punctuation)\n",
    "display(tiket_df)"
   ]
  },
  {
   "cell_type": "code",
   "execution_count": null,
   "id": "471c1459",
   "metadata": {},
   "outputs": [],
   "source": [
    "def clean_text(text):\n",
    "    if not isinstance(text, str):\n",
    "        return print(f\"Not cleaned: {\"\"}\")\n",
    "    tokens = word_tokenize(text.lower())\n",
    "    cleaned_tokens = [\n",
    "        word for word in tokens if word not in stop_words and word not in punctuation\n",
    "    ]\n",
    "    return \" \".join(cleaned_tokens)\n",
    "\n",
    "\n",
    "tiket_df[\"cleaned_text\"] = tiket_df[\"translated_body\"].progress_apply(clean_text)\n",
    "display(tiket_df[[\"cleaned_text\", \"translated_body\"]].head(15))"
   ]
  },
  {
   "cell_type": "markdown",
   "id": "a6148e58",
   "metadata": {},
   "source": [
    "# **Split Data**\n",
    "\n",
    "Data akan dibagi jadi 80:10:10 (dasarnya apa masih cari lupa nemu di mana). `type`, `queue ` dan `prioritas` masing-masing di-split 80:10:10.\n"
   ]
  },
  {
   "cell_type": "markdown",
   "id": "82ebbc1a",
   "metadata": {},
   "source": [
    "## **1 `priority`**\n"
   ]
  },
  {
   "cell_type": "code",
   "execution_count": null,
   "id": "87fe45ff",
   "metadata": {},
   "outputs": [
    {
     "name": "stderr",
     "output_type": "stream",
     "text": [
      "C:\\Users\\prith\\AppData\\Local\\Temp\\ipykernel_22832\\3458849501.py:5: UserWarning: The palette list has more values (6) than needed (3), which may not be intended.\n",
      "  a = sns.countplot(\n"
     ]
    },
    {
     "data": {
      "text/html": [
       "<pre style=\"white-space:pre;overflow-x:auto;line-height:normal;font-family:Menlo,'DejaVu Sans Mono',consolas,'Courier New',monospace\">Ukuran data training <span style=\"font-weight: bold\">(</span><span style=\"color: #008080; text-decoration-color: #008080; font-weight: bold\">80</span>%<span style=\"font-weight: bold\">)</span>: <span style=\"color: #008080; text-decoration-color: #008080; font-weight: bold\">16000</span> sampel\n",
       "</pre>\n"
      ],
      "text/plain": [
       "Ukuran data training \u001b[1m(\u001b[0m\u001b[1;36m80\u001b[0m%\u001b[1m)\u001b[0m: \u001b[1;36m16000\u001b[0m sampel\n"
      ]
     },
     "metadata": {},
     "output_type": "display_data"
    },
    {
     "data": {
      "text/html": [
       "<pre style=\"white-space:pre;overflow-x:auto;line-height:normal;font-family:Menlo,'DejaVu Sans Mono',consolas,'Courier New',monospace\">Ukuran data validasi <span style=\"font-weight: bold\">(</span><span style=\"color: #008080; text-decoration-color: #008080; font-weight: bold\">10</span>%<span style=\"font-weight: bold\">)</span>: <span style=\"color: #008080; text-decoration-color: #008080; font-weight: bold\">2000</span> sampel\n",
       "</pre>\n"
      ],
      "text/plain": [
       "Ukuran data validasi \u001b[1m(\u001b[0m\u001b[1;36m10\u001b[0m%\u001b[1m)\u001b[0m: \u001b[1;36m2000\u001b[0m sampel\n"
      ]
     },
     "metadata": {},
     "output_type": "display_data"
    },
    {
     "data": {
      "text/html": [
       "<pre style=\"white-space:pre;overflow-x:auto;line-height:normal;font-family:Menlo,'DejaVu Sans Mono',consolas,'Courier New',monospace\">Ukuran data testing <span style=\"font-weight: bold\">(</span><span style=\"color: #008080; text-decoration-color: #008080; font-weight: bold\">10</span>%<span style=\"font-weight: bold\">)</span>: <span style=\"color: #008080; text-decoration-color: #008080; font-weight: bold\">2000</span> sampel\n",
       "</pre>\n"
      ],
      "text/plain": [
       "Ukuran data testing \u001b[1m(\u001b[0m\u001b[1;36m10\u001b[0m%\u001b[1m)\u001b[0m: \u001b[1;36m2000\u001b[0m sampel\n"
      ]
     },
     "metadata": {},
     "output_type": "display_data"
    },
    {
     "data": {
      "text/html": [
       "<pre style=\"white-space:pre;overflow-x:auto;line-height:normal;font-family:Menlo,'DejaVu Sans Mono',consolas,'Courier New',monospace\">Distribusi kelas <span style=\"color: #008000; text-decoration-color: #008000\">'priority'</span> di setiap set:\n",
       "</pre>\n"
      ],
      "text/plain": [
       "Distribusi kelas \u001b[32m'priority'\u001b[0m di setiap set:\n"
      ]
     },
     "metadata": {},
     "output_type": "display_data"
    },
    {
     "data": {
      "text/html": [
       "<pre style=\"white-space:pre;overflow-x:auto;line-height:normal;font-family:Menlo,'DejaVu Sans Mono',consolas,'Courier New',monospace\">Training:\n",
       "</pre>\n"
      ],
      "text/plain": [
       "Training:\n"
      ]
     },
     "metadata": {},
     "output_type": "display_data"
    },
    {
     "data": {
      "text/plain": [
       "priority\n",
       "medium    40.72%\n",
       "high      39.01%\n",
       "low       20.28%\n",
       "Name: proportion, dtype: object"
      ]
     },
     "metadata": {},
     "output_type": "display_data"
    },
    {
     "data": {
      "text/html": [
       "<pre style=\"white-space:pre;overflow-x:auto;line-height:normal;font-family:Menlo,'DejaVu Sans Mono',consolas,'Courier New',monospace\">\n",
       "Validation:\n",
       "</pre>\n"
      ],
      "text/plain": [
       "\n",
       "Validation:\n"
      ]
     },
     "metadata": {},
     "output_type": "display_data"
    },
    {
     "data": {
      "text/plain": [
       "priority\n",
       "medium    40.75%\n",
       "high       39.0%\n",
       "low       20.25%\n",
       "Name: proportion, dtype: object"
      ]
     },
     "metadata": {},
     "output_type": "display_data"
    },
    {
     "data": {
      "text/html": [
       "<pre style=\"white-space:pre;overflow-x:auto;line-height:normal;font-family:Menlo,'DejaVu Sans Mono',consolas,'Courier New',monospace\">\n",
       "Testing:\n",
       "</pre>\n"
      ],
      "text/plain": [
       "\n",
       "Testing:\n"
      ]
     },
     "metadata": {},
     "output_type": "display_data"
    },
    {
     "data": {
      "text/plain": [
       "priority\n",
       "medium    40.7%\n",
       "high      39.0%\n",
       "low       20.3%\n",
       "Name: proportion, dtype: object"
      ]
     },
     "metadata": {},
     "output_type": "display_data"
    },
    {
     "data": {
      "image/png": "[encoded data removed]",
      "text/plain": [
       "<Figure size 1000x600 with 1 Axes>"
      ]
     },
     "metadata": {},
     "output_type": "display_data"
    }
   ],
   "source": [
    "priority = pd.DataFrame(tiket_df[\"priority\"])\n",
    "priority_order = df[\"priority\"].value_counts().index\n",
    "\n",
    "plt.figure(figsize=(10, 6))\n",
    "a = sns.countplot(\n",
    "    data=df,\n",
    "    x=\"priority\",\n",
    "    hue=\"priority\",\n",
    "    order=priority_order,\n",
    "    palette=sns.color_palette(\"mako\"),\n",
    ")\n",
    "for container in a.containers:\n",
    "    a.bar_label(container, fmt=\"%d\", label_type=\"edge\", padding=5)\n",
    "plt.title(\"Priority Distribution\")\n",
    "plt.xlabel(\"Priority\")\n",
    "plt.ylabel(\"Count\")\n",
    "\n",
    "\n",
    "X = tiket_df[\"body\"]\n",
    "y = tiket_df[\"priority\"]\n",
    "\n",
    "# Training\n",
    "X_train, X_temp, y_train, y_temp = train_test_split(\n",
    "    X, y, test_size=0.2, random_state=42, stratify=y\n",
    ")\n",
    "\n",
    "# Testing & Validasi\n",
    "X_val, X_test, y_val, y_test = train_test_split(\n",
    "    X_temp, y_temp, test_size=0.5, random_state=42, stratify=y_temp\n",
    ")\n",
    "\n",
    "print(f\"Ukuran data training (80%): {len(X_train)} sampel\")\n",
    "print(f\"Ukuran data validasi (10%): {len(X_val)} sampel\")\n",
    "print(f\"Ukuran data testing (10%): {len(X_test)} sampel\")\n",
    "\n",
    "print(\"Distribusi kelas 'priority' di setiap set:\")\n",
    "print(\"Training:\")\n",
    "display(y_train.value_counts(normalize=True).mul(100).round(2).astype(str) + \"%\")\n",
    "print(\"\\nValidation:\")\n",
    "display(y_val.value_counts(normalize=True).mul(100).round(2).astype(str) + \"%\")\n",
    "print(\"\\nTesting:\")\n",
    "display(y_test.value_counts(normalize=True).mul(100).round(2).astype(str) + \"%\")"
   ]
  },
  {
   "cell_type": "markdown",
   "id": "b3507cb9",
   "metadata": {},
   "source": [
    "### **BERT CLS Tokenization**\n",
    "\n",
    "Tokenisasi untukj `priority` yang sudah di split ke `X_train`,`X_test`,`X_val`\n"
   ]
  },
  {
   "cell_type": "code",
   "execution_count": 63,
   "id": "c15848d6",
   "metadata": {},
   "outputs": [
    {
     "data": {
      "text/plain": [
       "6376    Hello Customer Support, I am contacting you to...\n",
       "5074    An unauthorized access attempt has been identi...\n",
       "2674    The data breach happened because the software ...\n",
       "9706           Unexpected charges appear on the statement\n",
       "6089    Hello customer support, I am contacting you to...\n",
       "Name: body, dtype: object"
      ]
     },
     "metadata": {},
     "output_type": "display_data"
    },
    {
     "data": {
      "text/html": [
       "<div>\n",
       "<style scoped>\n",
       "    .dataframe tbody tr th:only-of-type {\n",
       "        vertical-align: middle;\n",
       "    }\n",
       "\n",
       "    .dataframe tbody tr th {\n",
       "        vertical-align: top;\n",
       "    }\n",
       "\n",
       "    .dataframe thead th {\n",
       "        text-align: right;\n",
       "    }\n",
       "</style>\n",
       "<table border=\"1\" class=\"dataframe\">\n",
       "  <thead>\n",
       "    <tr style=\"text-align: right;\">\n",
       "      <th></th>\n",
       "      <th>X_train_token</th>\n",
       "      <th>body</th>\n",
       "    </tr>\n",
       "  </thead>\n",
       "  <tbody>\n",
       "    <tr>\n",
       "      <th>0</th>\n",
       "      <td>[101, 7592, 8013, 2490, 1010, 1045, 2572, 3967...</td>\n",
       "      <td>Hello Customer Support, I am contacting you to...</td>\n",
       "    </tr>\n",
       "    <tr>\n",
       "      <th>1</th>\n",
       "      <td>[101, 2019, 24641, 3229, 3535, 2038, 2042, 445...</td>\n",
       "      <td>An unauthorized access attempt has been identi...</td>\n",
       "    </tr>\n",
       "    <tr>\n",
       "      <th>2</th>\n",
       "      <td>[101, 1996, 2951, 12510, 3047, 2138, 1996, 400...</td>\n",
       "      <td>The data breach happened because the software ...</td>\n",
       "    </tr>\n",
       "    <tr>\n",
       "      <th>3</th>\n",
       "      <td>[101, 9223, 5571, 3711, 2006, 1996, 4861, 102,...</td>\n",
       "      <td>Unexpected charges appear on the statement</td>\n",
       "    </tr>\n",
       "    <tr>\n",
       "      <th>4</th>\n",
       "      <td>[101, 7592, 8013, 2490, 1010, 1045, 2572, 3967...</td>\n",
       "      <td>Hello customer support, I am contacting you to...</td>\n",
       "    </tr>\n",
       "  </tbody>\n",
       "</table>\n",
       "</div>"
      ],
      "text/plain": [
       "                                       X_train_token  \\\n",
       "0  [101, 7592, 8013, 2490, 1010, 1045, 2572, 3967...   \n",
       "1  [101, 2019, 24641, 3229, 3535, 2038, 2042, 445...   \n",
       "2  [101, 1996, 2951, 12510, 3047, 2138, 1996, 400...   \n",
       "3  [101, 9223, 5571, 3711, 2006, 1996, 4861, 102,...   \n",
       "4  [101, 7592, 8013, 2490, 1010, 1045, 2572, 3967...   \n",
       "\n",
       "                                                body  \n",
       "0  Hello Customer Support, I am contacting you to...  \n",
       "1  An unauthorized access attempt has been identi...  \n",
       "2  The data breach happened because the software ...  \n",
       "3         Unexpected charges appear on the statement  \n",
       "4  Hello customer support, I am contacting you to...  "
      ]
     },
     "metadata": {},
     "output_type": "display_data"
    }
   ],
   "source": [
    "tokenizer = BertTokenizer.from_pretrained(\"bert-base-uncased\")\n",
    "tokenized_output = tokenizer(\n",
    "    list(X_train.astype(str).tolist()),\n",
    "    padding=True,\n",
    "    truncation=True,\n",
    "    return_tensors=\"pt\",\n",
    ")\n",
    "tiket_df = X_train.to_frame(name=\"body\").reset_index(drop=True)\n",
    "tiket_df[\"X_train_token\"] = tokenized_output[\"input_ids\"].tolist()\n",
    "display(X_train.head(5))\n",
    "display(tiket_df[[\"X_train_token\", \"body\"]].head(5))"
   ]
  }
 ],
 "metadata": {
  "kernelspec": {
   "display_name": "Python 3",
   "language": "python",
   "name": "python3"
  },
  "language_info": {
   "codemirror_mode": {
    "name": "ipython",
    "version": 3
   },
   "file_extension": ".py",
   "mimetype": "text/x-python",
   "name": "python",
   "nbconvert_exporter": "python",
   "pygments_lexer": "ipython3",
   "version": "3.13.2"
  }
 },
 "nbformat": 4,
 "nbformat_minor": 5
}
